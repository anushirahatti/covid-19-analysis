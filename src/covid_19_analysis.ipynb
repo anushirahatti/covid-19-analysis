{
  "nbformat": 4,
  "nbformat_minor": 0,
  "metadata": {
    "colab": {
      "name": "covid_19_analysis.ipynb",
      "provenance": [],
      "authorship_tag": "ABX9TyPQK1y6bkeG9st75A9shktq",
      "include_colab_link": true
    },
    "kernelspec": {
      "name": "python3",
      "display_name": "Python 3"
    }
  },
  "cells": [
    {
      "cell_type": "markdown",
      "metadata": {
        "id": "view-in-github",
        "colab_type": "text"
      },
      "source": [
        "<a href=\"https://colab.research.google.com/github/anushirahatti/covid-19-analysis/blob/master/src/covid_19_analysis.ipynb\" target=\"_parent\"><img src=\"https://colab.research.google.com/assets/colab-badge.svg\" alt=\"Open In Colab\"/></a>"
      ]
    },
    {
      "cell_type": "markdown",
      "metadata": {
        "id": "GEM4waTxjoFH",
        "colab_type": "text"
      },
      "source": [
        "**Ingest:**"
      ]
    },
    {
      "cell_type": "code",
      "metadata": {
        "id": "Je_HA8zpjmyk",
        "colab_type": "code",
        "colab": {}
      },
      "source": [
        "import pandas as pd\n",
        "import numpy as np\n",
        "import seaborn as sns\n",
        "import plotly.graph_objects as go\n",
        "import matplotlib.pyplot as plt"
      ],
      "execution_count": 0,
      "outputs": []
    },
    {
      "cell_type": "code",
      "metadata": {
        "id": "rCDZjr77sqjz",
        "colab_type": "code",
        "colab": {}
      },
      "source": [
        "world_data = pd.read_csv(\"https://raw.githubusercontent.com/anushirahatti/covid-19-analysis/master/data/covid_19_data.csv\")\n",
        "who_data = pd.read_csv(\"https://raw.githubusercontent.com/anushirahatti/covid-19-analysis/master/data/full_data.csv\")"
      ],
      "execution_count": 0,
      "outputs": []
    },
    {
      "cell_type": "markdown",
      "metadata": {
        "id": "CJyh_WW452OO",
        "colab_type": "text"
      },
      "source": [
        "**Data Preparation & Exploratory Data Analysis (EDA):**"
      ]
    },
    {
      "cell_type": "code",
      "metadata": {
        "id": "axRPaQuQ59_h",
        "colab_type": "code",
        "colab": {}
      },
      "source": [
        "world_data.drop('SNo', axis=1, inplace=True)"
      ],
      "execution_count": 0,
      "outputs": []
    },
    {
      "cell_type": "code",
      "metadata": {
        "id": "t21QsuO16WE1",
        "colab_type": "code",
        "colab": {}
      },
      "source": [
        "world_data[\"ObservationDate\"] = pd.to_datetime(world_data[\"ObservationDate\"]).dt.strftime('%Y-%m-%d')"
      ],
      "execution_count": 0,
      "outputs": []
    },
    {
      "cell_type": "code",
      "metadata": {
        "id": "pekB1Ahd6Z57",
        "colab_type": "code",
        "colab": {}
      },
      "source": [
        "world_data.columns = world_data.columns.str.replace(\"/\", \"_\") \n",
        "world_data.columns = world_data.columns.str.replace(\" \", \"_\") "
      ],
      "execution_count": 0,
      "outputs": []
    },
    {
      "cell_type": "code",
      "metadata": {
        "id": "WKhPT57N6c-1",
        "colab_type": "code",
        "colab": {}
      },
      "source": [
        "world_data.rename(columns = {'ObservationDate':'date'}, inplace = True)\n",
        "who_data.rename(columns = {'location':'Country_Region'}, inplace = True)"
      ],
      "execution_count": 0,
      "outputs": []
    },
    {
      "cell_type": "code",
      "metadata": {
        "id": "WGH5vDTr7lSC",
        "colab_type": "code",
        "colab": {
          "base_uri": "https://localhost:8080/",
          "height": 153
        },
        "outputId": "355c60aa-2746-4e1b-aade-d12a55c1dcc0"
      },
      "source": [
        "world_data.isnull().sum()"
      ],
      "execution_count": 82,
      "outputs": [
        {
          "output_type": "execute_result",
          "data": {
            "text/plain": [
              "date                 0\n",
              "Province_State    1815\n",
              "Country_Region       0\n",
              "Last_Update          0\n",
              "Confirmed            0\n",
              "Deaths               0\n",
              "Recovered            0\n",
              "dtype: int64"
            ]
          },
          "metadata": {
            "tags": []
          },
          "execution_count": 82
        }
      ]
    },
    {
      "cell_type": "code",
      "metadata": {
        "id": "Ze6HAgkG7oi7",
        "colab_type": "code",
        "colab": {
          "base_uri": "https://localhost:8080/",
          "height": 136
        },
        "outputId": "33f17ecd-326c-47ea-dd8c-7bf7b8926557"
      },
      "source": [
        "who_data.isnull().sum()"
      ],
      "execution_count": 83,
      "outputs": [
        {
          "output_type": "execute_result",
          "data": {
            "text/plain": [
              "date                 0\n",
              "Country_Region       0\n",
              "new_cases          136\n",
              "new_deaths        1990\n",
              "total_cases          0\n",
              "total_deaths      1953\n",
              "dtype: int64"
            ]
          },
          "metadata": {
            "tags": []
          },
          "execution_count": 83
        }
      ]
    },
    {
      "cell_type": "code",
      "metadata": {
        "id": "ja8Hsbv5l2En",
        "colab_type": "code",
        "outputId": "4fd5ff90-6524-4a8c-ef97-e13d0dba6ba1",
        "colab": {
          "base_uri": "https://localhost:8080/",
          "height": 221
        }
      },
      "source": [
        "world_data.info()"
      ],
      "execution_count": 84,
      "outputs": [
        {
          "output_type": "stream",
          "text": [
            "<class 'pandas.core.frame.DataFrame'>\n",
            "RangeIndex: 4935 entries, 0 to 4934\n",
            "Data columns (total 7 columns):\n",
            "date              4935 non-null object\n",
            "Province_State    3120 non-null object\n",
            "Country_Region    4935 non-null object\n",
            "Last_Update       4935 non-null object\n",
            "Confirmed         4935 non-null int64\n",
            "Deaths            4935 non-null int64\n",
            "Recovered         4935 non-null int64\n",
            "dtypes: int64(3), object(4)\n",
            "memory usage: 270.0+ KB\n"
          ],
          "name": "stdout"
        }
      ]
    },
    {
      "cell_type": "code",
      "metadata": {
        "id": "i6PIlN09OZUb",
        "colab_type": "code",
        "outputId": "0f78bdc0-dec9-4624-f030-be6acb31116e",
        "colab": {
          "base_uri": "https://localhost:8080/",
          "height": 204
        }
      },
      "source": [
        "who_data.info()"
      ],
      "execution_count": 85,
      "outputs": [
        {
          "output_type": "stream",
          "text": [
            "<class 'pandas.core.frame.DataFrame'>\n",
            "RangeIndex: 2407 entries, 0 to 2406\n",
            "Data columns (total 6 columns):\n",
            "date              2407 non-null object\n",
            "Country_Region    2407 non-null object\n",
            "new_cases         2271 non-null float64\n",
            "new_deaths        417 non-null float64\n",
            "total_cases       2407 non-null int64\n",
            "total_deaths      454 non-null float64\n",
            "dtypes: float64(3), int64(1), object(2)\n",
            "memory usage: 113.0+ KB\n"
          ],
          "name": "stdout"
        }
      ]
    },
    {
      "cell_type": "code",
      "metadata": {
        "id": "RIhvfMvKqtSD",
        "colab_type": "code",
        "colab": {}
      },
      "source": [
        "world_data[\"Province_State\"].fillna(\"Unknown\", inplace=True)"
      ],
      "execution_count": 0,
      "outputs": []
    },
    {
      "cell_type": "code",
      "metadata": {
        "id": "oVNNLDbzRRHU",
        "colab_type": "code",
        "colab": {}
      },
      "source": [
        "who_data.new_cases.fillna(0, inplace=True)\n",
        "who_data.new_deaths.fillna(0, inplace=True)\n",
        "who_data.total_deaths.fillna(0, inplace=True)"
      ],
      "execution_count": 0,
      "outputs": []
    },
    {
      "cell_type": "code",
      "metadata": {
        "id": "fiw92L1-UvmA",
        "colab_type": "code",
        "outputId": "221ff13a-a8f4-4c01-f941-2b1cdb54eac6",
        "colab": {
          "base_uri": "https://localhost:8080/",
          "height": 459
        }
      },
      "source": [
        "world_data[\"Country_Region\"].unique()"
      ],
      "execution_count": 88,
      "outputs": [
        {
          "output_type": "execute_result",
          "data": {
            "text/plain": [
              "array(['Mainland China', 'Hong Kong', 'Macau', 'Taiwan', 'US', 'Japan',\n",
              "       'Thailand', 'South Korea', 'Singapore', 'Philippines', 'Malaysia',\n",
              "       'Vietnam', 'Australia', 'Mexico', 'Brazil', 'Colombia', 'France',\n",
              "       'Nepal', 'Canada', 'Cambodia', 'Sri Lanka', 'Ivory Coast',\n",
              "       'Germany', 'Finland', 'United Arab Emirates', 'India', 'Italy',\n",
              "       'UK', 'Russia', 'Sweden', 'Spain', 'Belgium', 'Others', 'Egypt',\n",
              "       'Iran', 'Israel', 'Lebanon', 'Iraq', 'Oman', 'Afghanistan',\n",
              "       'Bahrain', 'Kuwait', 'Austria', 'Algeria', 'Croatia',\n",
              "       'Switzerland', 'Pakistan', 'Georgia', 'Greece', 'North Macedonia',\n",
              "       'Norway', 'Romania', 'Denmark', 'Estonia', 'Netherlands',\n",
              "       'San Marino', ' Azerbaijan', 'Belarus', 'Iceland', 'Lithuania',\n",
              "       'New Zealand', 'Nigeria', 'North Ireland', 'Ireland', 'Luxembourg',\n",
              "       'Monaco', 'Qatar', 'Ecuador', 'Azerbaijan', 'Czech Republic',\n",
              "       'Armenia', 'Dominican Republic', 'Indonesia', 'Portugal',\n",
              "       'Andorra', 'Latvia', 'Morocco', 'Saudi Arabia', 'Senegal',\n",
              "       'Argentina', 'Chile', 'Jordan', 'Ukraine', 'Saint Barthelemy',\n",
              "       'Hungary', 'Faroe Islands', 'Gibraltar', 'Liechtenstein', 'Poland',\n",
              "       'Tunisia', 'Palestine', 'Bosnia and Herzegovina', 'Slovenia',\n",
              "       'South Africa', 'Bhutan', 'Cameroon', 'Costa Rica', 'Peru',\n",
              "       'Serbia', 'Slovakia', 'Togo', 'Vatican City', 'French Guiana',\n",
              "       'Malta', 'Martinique', 'Republic of Ireland', 'Bulgaria',\n",
              "       'Maldives', 'Bangladesh', 'Moldova', 'Paraguay', 'Albania',\n",
              "       'Cyprus', 'St. Martin', 'Brunei', 'occupied Palestinian territory',\n",
              "       \"('St. Martin',)\", 'Burkina Faso', 'Channel Islands', 'Holy See',\n",
              "       'Mongolia', 'Panama', 'Bolivia', 'Honduras', 'Congo (Kinshasa)',\n",
              "       'Jamaica', 'Reunion', 'Turkey'], dtype=object)"
            ]
          },
          "metadata": {
            "tags": []
          },
          "execution_count": 88
        }
      ]
    },
    {
      "cell_type": "code",
      "metadata": {
        "id": "ClsXf7dGU8cc",
        "colab_type": "code",
        "outputId": "7c6bf151-4eba-43a9-868b-cc0369ca1e9f",
        "colab": {
          "base_uri": "https://localhost:8080/",
          "height": 510
        }
      },
      "source": [
        "who_data[\"Country_Region\"].unique()"
      ],
      "execution_count": 89,
      "outputs": [
        {
          "output_type": "execute_result",
          "data": {
            "text/plain": [
              "array(['Afghanistan', 'Albania', 'Algeria', 'Andorra',\n",
              "       'Antigua and Barbuda', 'Argentina', 'Armenia', 'Australia',\n",
              "       'Austria', 'Azerbaijan', 'Bahrain', 'Bangladesh', 'Belarus',\n",
              "       'Belgium', 'Bhutan', 'Bolivia', 'Bosnia and Herzegovina', 'Brazil',\n",
              "       'Brunei', 'Bulgaria', 'Burkina Faso', 'Cambodia', 'Cameroon',\n",
              "       'Canada', 'Cayman Islands', 'Chile', 'China', 'Colombia',\n",
              "       'Costa Rica', 'Croatia', 'Cuba', 'Cyprus', 'Czech Republic',\n",
              "       \"Cote d'Ivoire\", 'Democratic Republic of Congo', 'Denmark',\n",
              "       'Dominican Republic', 'Ecuador', 'Egypt', 'Estonia', 'Ethiopia',\n",
              "       'Faeroe Islands', 'Finland', 'France', 'French Guiana',\n",
              "       'French Polynesia', 'Gabon', 'Georgia', 'Germany', 'Ghana',\n",
              "       'Gibraltar', 'Greece', 'Guadeloupe', 'Guernsey', 'Guinea',\n",
              "       'Guyana', 'Vatican', 'Honduras', 'Hungary', 'Iceland', 'India',\n",
              "       'Indonesia', 'International', 'Iran', 'Iraq', 'Ireland', 'Israel',\n",
              "       'Italy', 'Jamaica', 'Japan', 'Jersey', 'Jordan', 'Kenya', 'Kuwait',\n",
              "       'Latvia', 'Lebanon', 'Liechtenstein', 'Lithuania', 'Luxembourg',\n",
              "       'Malaysia', 'Maldives', 'Malta', 'Martinique', 'Mexico', 'Monaco',\n",
              "       'Mongolia', 'Morocco', 'Nepal', 'Netherlands', 'New Zealand',\n",
              "       'Nigeria', 'Macedonia', 'Norway', 'Palestine', 'Oman', 'Pakistan',\n",
              "       'Panama', 'Paraguay', 'Peru', 'Philippines', 'Poland', 'Portugal',\n",
              "       'Puerto Rico', 'Qatar', 'South Korea', 'Moldova', 'Romania',\n",
              "       'Russia', 'Reunion', 'Saint Barthlemy',\n",
              "       'Saint Martin (French part)', 'Saint Vincent and the Grenadines',\n",
              "       'San Marino', 'Saudi Arabia', 'Senegal', 'Serbia', 'Singapore',\n",
              "       'Slovakia', 'Slovenia', 'South Africa', 'Spain', 'Sri Lanka',\n",
              "       'Sudan', 'Sweden', 'Switzerland', 'Thailand', 'United Kingdom',\n",
              "       'Togo', 'Trinidad and Tobago', 'Tunisia', 'Turkey', 'Ukraine',\n",
              "       'United Arab Emirates', 'United States', 'Venezuela', 'Vietnam',\n",
              "       'World'], dtype=object)"
            ]
          },
          "metadata": {
            "tags": []
          },
          "execution_count": 89
        }
      ]
    },
    {
      "cell_type": "code",
      "metadata": {
        "id": "BaKwD4DNjwiu",
        "colab_type": "code",
        "outputId": "b7ce7d4d-2b4e-4d43-b9f2-f64e6dcc03e1",
        "colab": {
          "base_uri": "https://localhost:8080/",
          "height": 34
        }
      },
      "source": [
        "who_data[\"Country_Region\"].nunique()"
      ],
      "execution_count": 90,
      "outputs": [
        {
          "output_type": "execute_result",
          "data": {
            "text/plain": [
              "137"
            ]
          },
          "metadata": {
            "tags": []
          },
          "execution_count": 90
        }
      ]
    },
    {
      "cell_type": "code",
      "metadata": {
        "id": "o_NWbQaCjwgm",
        "colab_type": "code",
        "outputId": "c9ed96d7-afbb-4fc0-de5a-88d0588edbdc",
        "colab": {
          "base_uri": "https://localhost:8080/",
          "height": 34
        }
      },
      "source": [
        "world_data[\"Country_Region\"].nunique()"
      ],
      "execution_count": 91,
      "outputs": [
        {
          "output_type": "execute_result",
          "data": {
            "text/plain": [
              "128"
            ]
          },
          "metadata": {
            "tags": []
          },
          "execution_count": 91
        }
      ]
    },
    {
      "cell_type": "code",
      "metadata": {
        "id": "xZLIjXsgmFLs",
        "colab_type": "code",
        "outputId": "002a5832-6eba-4f36-92d8-a9ab26b6877a",
        "colab": {
          "base_uri": "https://localhost:8080/",
          "height": 1000
        }
      },
      "source": [
        "world_data[world_data['Country_Region'].str.contains(\"Malaysia\")]"
      ],
      "execution_count": 92,
      "outputs": [
        {
          "output_type": "execute_result",
          "data": {
            "text/html": [
              "<div>\n",
              "<style scoped>\n",
              "    .dataframe tbody tr th:only-of-type {\n",
              "        vertical-align: middle;\n",
              "    }\n",
              "\n",
              "    .dataframe tbody tr th {\n",
              "        vertical-align: top;\n",
              "    }\n",
              "\n",
              "    .dataframe thead th {\n",
              "        text-align: right;\n",
              "    }\n",
              "</style>\n",
              "<table border=\"1\" class=\"dataframe\">\n",
              "  <thead>\n",
              "    <tr style=\"text-align: right;\">\n",
              "      <th></th>\n",
              "      <th>date</th>\n",
              "      <th>Province_State</th>\n",
              "      <th>Country_Region</th>\n",
              "      <th>Last_Update</th>\n",
              "      <th>Confirmed</th>\n",
              "      <th>Deaths</th>\n",
              "      <th>Recovered</th>\n",
              "    </tr>\n",
              "  </thead>\n",
              "  <tbody>\n",
              "    <tr>\n",
              "      <th>78</th>\n",
              "      <td>2020-01-23</td>\n",
              "      <td>Unknown</td>\n",
              "      <td>Malaysia</td>\n",
              "      <td>1/23/20 17:00</td>\n",
              "      <td>0</td>\n",
              "      <td>0</td>\n",
              "      <td>0</td>\n",
              "    </tr>\n",
              "    <tr>\n",
              "      <th>168</th>\n",
              "      <td>2020-01-25</td>\n",
              "      <td>Unknown</td>\n",
              "      <td>Malaysia</td>\n",
              "      <td>1/25/20 17:00</td>\n",
              "      <td>3</td>\n",
              "      <td>0</td>\n",
              "      <td>0</td>\n",
              "    </tr>\n",
              "    <tr>\n",
              "      <th>214</th>\n",
              "      <td>2020-01-26</td>\n",
              "      <td>Unknown</td>\n",
              "      <td>Malaysia</td>\n",
              "      <td>1/26/20 16:00</td>\n",
              "      <td>4</td>\n",
              "      <td>0</td>\n",
              "      <td>0</td>\n",
              "    </tr>\n",
              "    <tr>\n",
              "      <th>260</th>\n",
              "      <td>2020-01-27</td>\n",
              "      <td>Unknown</td>\n",
              "      <td>Malaysia</td>\n",
              "      <td>1/27/20 23:59</td>\n",
              "      <td>4</td>\n",
              "      <td>0</td>\n",
              "      <td>0</td>\n",
              "    </tr>\n",
              "    <tr>\n",
              "      <th>311</th>\n",
              "      <td>2020-01-28</td>\n",
              "      <td>Unknown</td>\n",
              "      <td>Malaysia</td>\n",
              "      <td>1/28/20 23:00</td>\n",
              "      <td>4</td>\n",
              "      <td>0</td>\n",
              "      <td>0</td>\n",
              "    </tr>\n",
              "    <tr>\n",
              "      <th>363</th>\n",
              "      <td>2020-01-29</td>\n",
              "      <td>Unknown</td>\n",
              "      <td>Malaysia</td>\n",
              "      <td>1/29/20 19:30</td>\n",
              "      <td>7</td>\n",
              "      <td>0</td>\n",
              "      <td>0</td>\n",
              "    </tr>\n",
              "    <tr>\n",
              "      <th>418</th>\n",
              "      <td>2020-01-30</td>\n",
              "      <td>Unknown</td>\n",
              "      <td>Malaysia</td>\n",
              "      <td>1/30/20 16:00</td>\n",
              "      <td>8</td>\n",
              "      <td>0</td>\n",
              "      <td>0</td>\n",
              "    </tr>\n",
              "    <tr>\n",
              "      <th>469</th>\n",
              "      <td>2020-01-31</td>\n",
              "      <td>Unknown</td>\n",
              "      <td>Malaysia</td>\n",
              "      <td>1/31/2020 23:59</td>\n",
              "      <td>8</td>\n",
              "      <td>0</td>\n",
              "      <td>0</td>\n",
              "    </tr>\n",
              "    <tr>\n",
              "      <th>529</th>\n",
              "      <td>2020-02-01</td>\n",
              "      <td>Unknown</td>\n",
              "      <td>Malaysia</td>\n",
              "      <td>1/31/2020 8:15</td>\n",
              "      <td>8</td>\n",
              "      <td>0</td>\n",
              "      <td>0</td>\n",
              "    </tr>\n",
              "    <tr>\n",
              "      <th>598</th>\n",
              "      <td>2020-02-02</td>\n",
              "      <td>Unknown</td>\n",
              "      <td>Malaysia</td>\n",
              "      <td>2020-01-31T08:15:53</td>\n",
              "      <td>8</td>\n",
              "      <td>0</td>\n",
              "      <td>0</td>\n",
              "    </tr>\n",
              "    <tr>\n",
              "      <th>665</th>\n",
              "      <td>2020-02-03</td>\n",
              "      <td>Unknown</td>\n",
              "      <td>Malaysia</td>\n",
              "      <td>2020-01-31T08:15:53</td>\n",
              "      <td>8</td>\n",
              "      <td>0</td>\n",
              "      <td>0</td>\n",
              "    </tr>\n",
              "    <tr>\n",
              "      <th>733</th>\n",
              "      <td>2020-02-04</td>\n",
              "      <td>Unknown</td>\n",
              "      <td>Malaysia</td>\n",
              "      <td>2020-02-04T07:33:02</td>\n",
              "      <td>10</td>\n",
              "      <td>0</td>\n",
              "      <td>0</td>\n",
              "    </tr>\n",
              "    <tr>\n",
              "      <th>801</th>\n",
              "      <td>2020-02-05</td>\n",
              "      <td>Unknown</td>\n",
              "      <td>Malaysia</td>\n",
              "      <td>2020-02-05T15:43:02</td>\n",
              "      <td>12</td>\n",
              "      <td>0</td>\n",
              "      <td>0</td>\n",
              "    </tr>\n",
              "    <tr>\n",
              "      <th>873</th>\n",
              "      <td>2020-02-06</td>\n",
              "      <td>Unknown</td>\n",
              "      <td>Malaysia</td>\n",
              "      <td>2020-02-05T15:43:02</td>\n",
              "      <td>12</td>\n",
              "      <td>0</td>\n",
              "      <td>0</td>\n",
              "    </tr>\n",
              "    <tr>\n",
              "      <th>945</th>\n",
              "      <td>2020-02-07</td>\n",
              "      <td>Unknown</td>\n",
              "      <td>Malaysia</td>\n",
              "      <td>2020-02-07T09:13:21</td>\n",
              "      <td>12</td>\n",
              "      <td>0</td>\n",
              "      <td>1</td>\n",
              "    </tr>\n",
              "    <tr>\n",
              "      <th>1016</th>\n",
              "      <td>2020-02-08</td>\n",
              "      <td>Unknown</td>\n",
              "      <td>Malaysia</td>\n",
              "      <td>2020-02-08T10:23:04</td>\n",
              "      <td>16</td>\n",
              "      <td>0</td>\n",
              "      <td>1</td>\n",
              "    </tr>\n",
              "    <tr>\n",
              "      <th>1088</th>\n",
              "      <td>2020-02-09</td>\n",
              "      <td>Unknown</td>\n",
              "      <td>Malaysia</td>\n",
              "      <td>2020-02-08T10:23:04</td>\n",
              "      <td>16</td>\n",
              "      <td>0</td>\n",
              "      <td>1</td>\n",
              "    </tr>\n",
              "    <tr>\n",
              "      <th>1159</th>\n",
              "      <td>2020-02-10</td>\n",
              "      <td>Unknown</td>\n",
              "      <td>Malaysia</td>\n",
              "      <td>2020-02-10T03:03:09</td>\n",
              "      <td>18</td>\n",
              "      <td>0</td>\n",
              "      <td>1</td>\n",
              "    </tr>\n",
              "    <tr>\n",
              "      <th>1231</th>\n",
              "      <td>2020-02-11</td>\n",
              "      <td>Unknown</td>\n",
              "      <td>Malaysia</td>\n",
              "      <td>2020-02-11T03:13:13</td>\n",
              "      <td>18</td>\n",
              "      <td>0</td>\n",
              "      <td>3</td>\n",
              "    </tr>\n",
              "    <tr>\n",
              "      <th>1304</th>\n",
              "      <td>2020-02-12</td>\n",
              "      <td>Unknown</td>\n",
              "      <td>Malaysia</td>\n",
              "      <td>2020-02-11T03:13:13</td>\n",
              "      <td>18</td>\n",
              "      <td>0</td>\n",
              "      <td>3</td>\n",
              "    </tr>\n",
              "    <tr>\n",
              "      <th>1376</th>\n",
              "      <td>2020-02-13</td>\n",
              "      <td>Unknown</td>\n",
              "      <td>Malaysia</td>\n",
              "      <td>2020-02-13T10:53:02</td>\n",
              "      <td>19</td>\n",
              "      <td>0</td>\n",
              "      <td>3</td>\n",
              "    </tr>\n",
              "    <tr>\n",
              "      <th>1450</th>\n",
              "      <td>2020-02-14</td>\n",
              "      <td>Unknown</td>\n",
              "      <td>Malaysia</td>\n",
              "      <td>2020-02-13T10:53:02</td>\n",
              "      <td>19</td>\n",
              "      <td>0</td>\n",
              "      <td>3</td>\n",
              "    </tr>\n",
              "    <tr>\n",
              "      <th>1525</th>\n",
              "      <td>2020-02-15</td>\n",
              "      <td>Unknown</td>\n",
              "      <td>Malaysia</td>\n",
              "      <td>2020-02-15T23:43:02</td>\n",
              "      <td>22</td>\n",
              "      <td>0</td>\n",
              "      <td>7</td>\n",
              "    </tr>\n",
              "    <tr>\n",
              "      <th>1600</th>\n",
              "      <td>2020-02-16</td>\n",
              "      <td>Unknown</td>\n",
              "      <td>Malaysia</td>\n",
              "      <td>2020-02-15T23:43:02</td>\n",
              "      <td>22</td>\n",
              "      <td>0</td>\n",
              "      <td>7</td>\n",
              "    </tr>\n",
              "    <tr>\n",
              "      <th>1675</th>\n",
              "      <td>2020-02-17</td>\n",
              "      <td>Unknown</td>\n",
              "      <td>Malaysia</td>\n",
              "      <td>2020-02-15T23:43:02</td>\n",
              "      <td>22</td>\n",
              "      <td>0</td>\n",
              "      <td>7</td>\n",
              "    </tr>\n",
              "    <tr>\n",
              "      <th>1750</th>\n",
              "      <td>2020-02-18</td>\n",
              "      <td>Unknown</td>\n",
              "      <td>Malaysia</td>\n",
              "      <td>2020-02-18T16:23:02</td>\n",
              "      <td>22</td>\n",
              "      <td>0</td>\n",
              "      <td>13</td>\n",
              "    </tr>\n",
              "    <tr>\n",
              "      <th>1826</th>\n",
              "      <td>2020-02-19</td>\n",
              "      <td>Unknown</td>\n",
              "      <td>Malaysia</td>\n",
              "      <td>2020-02-19T09:33:03</td>\n",
              "      <td>22</td>\n",
              "      <td>0</td>\n",
              "      <td>15</td>\n",
              "    </tr>\n",
              "    <tr>\n",
              "      <th>1902</th>\n",
              "      <td>2020-02-20</td>\n",
              "      <td>Unknown</td>\n",
              "      <td>Malaysia</td>\n",
              "      <td>2020-02-19T09:33:03</td>\n",
              "      <td>22</td>\n",
              "      <td>0</td>\n",
              "      <td>15</td>\n",
              "    </tr>\n",
              "    <tr>\n",
              "      <th>1978</th>\n",
              "      <td>2020-02-21</td>\n",
              "      <td>Unknown</td>\n",
              "      <td>Malaysia</td>\n",
              "      <td>2020-02-19T09:33:03</td>\n",
              "      <td>22</td>\n",
              "      <td>0</td>\n",
              "      <td>15</td>\n",
              "    </tr>\n",
              "    <tr>\n",
              "      <th>2064</th>\n",
              "      <td>2020-02-22</td>\n",
              "      <td>Unknown</td>\n",
              "      <td>Malaysia</td>\n",
              "      <td>2020-02-19T09:33:03</td>\n",
              "      <td>22</td>\n",
              "      <td>0</td>\n",
              "      <td>15</td>\n",
              "    </tr>\n",
              "    <tr>\n",
              "      <th>2148</th>\n",
              "      <td>2020-02-23</td>\n",
              "      <td>Unknown</td>\n",
              "      <td>Malaysia</td>\n",
              "      <td>2020-02-19T09:33:03</td>\n",
              "      <td>22</td>\n",
              "      <td>0</td>\n",
              "      <td>15</td>\n",
              "    </tr>\n",
              "    <tr>\n",
              "      <th>2234</th>\n",
              "      <td>2020-02-24</td>\n",
              "      <td>Unknown</td>\n",
              "      <td>Malaysia</td>\n",
              "      <td>2020-02-24T11:53:02</td>\n",
              "      <td>22</td>\n",
              "      <td>0</td>\n",
              "      <td>18</td>\n",
              "    </tr>\n",
              "    <tr>\n",
              "      <th>2325</th>\n",
              "      <td>2020-02-25</td>\n",
              "      <td>Unknown</td>\n",
              "      <td>Malaysia</td>\n",
              "      <td>2020-02-24T11:53:02</td>\n",
              "      <td>22</td>\n",
              "      <td>0</td>\n",
              "      <td>18</td>\n",
              "    </tr>\n",
              "    <tr>\n",
              "      <th>2421</th>\n",
              "      <td>2020-02-26</td>\n",
              "      <td>Unknown</td>\n",
              "      <td>Malaysia</td>\n",
              "      <td>2020-02-24T11:53:02</td>\n",
              "      <td>22</td>\n",
              "      <td>0</td>\n",
              "      <td>18</td>\n",
              "    </tr>\n",
              "    <tr>\n",
              "      <th>2523</th>\n",
              "      <td>2020-02-27</td>\n",
              "      <td>Unknown</td>\n",
              "      <td>Malaysia</td>\n",
              "      <td>2020-02-27T15:13:13</td>\n",
              "      <td>23</td>\n",
              "      <td>0</td>\n",
              "      <td>18</td>\n",
              "    </tr>\n",
              "    <tr>\n",
              "      <th>2629</th>\n",
              "      <td>2020-02-28</td>\n",
              "      <td>Unknown</td>\n",
              "      <td>Malaysia</td>\n",
              "      <td>2020-02-27T15:13:13</td>\n",
              "      <td>23</td>\n",
              "      <td>0</td>\n",
              "      <td>18</td>\n",
              "    </tr>\n",
              "    <tr>\n",
              "      <th>2743</th>\n",
              "      <td>2020-02-29</td>\n",
              "      <td>Unknown</td>\n",
              "      <td>Malaysia</td>\n",
              "      <td>2020-02-29T04:03:18</td>\n",
              "      <td>25</td>\n",
              "      <td>0</td>\n",
              "      <td>18</td>\n",
              "    </tr>\n",
              "    <tr>\n",
              "      <th>2863</th>\n",
              "      <td>2020-03-01</td>\n",
              "      <td>Unknown</td>\n",
              "      <td>Malaysia</td>\n",
              "      <td>2020-03-01T12:53:02</td>\n",
              "      <td>29</td>\n",
              "      <td>0</td>\n",
              "      <td>18</td>\n",
              "    </tr>\n",
              "    <tr>\n",
              "      <th>2989</th>\n",
              "      <td>2020-03-02</td>\n",
              "      <td>Unknown</td>\n",
              "      <td>Malaysia</td>\n",
              "      <td>2020-03-01T12:53:02</td>\n",
              "      <td>29</td>\n",
              "      <td>0</td>\n",
              "      <td>18</td>\n",
              "    </tr>\n",
              "    <tr>\n",
              "      <th>3130</th>\n",
              "      <td>2020-03-03</td>\n",
              "      <td>Unknown</td>\n",
              "      <td>Malaysia</td>\n",
              "      <td>2020-03-03T12:33:02</td>\n",
              "      <td>36</td>\n",
              "      <td>0</td>\n",
              "      <td>22</td>\n",
              "    </tr>\n",
              "    <tr>\n",
              "      <th>3279</th>\n",
              "      <td>2020-03-04</td>\n",
              "      <td>Unknown</td>\n",
              "      <td>Malaysia</td>\n",
              "      <td>2020-03-04T13:03:08</td>\n",
              "      <td>50</td>\n",
              "      <td>0</td>\n",
              "      <td>22</td>\n",
              "    </tr>\n",
              "    <tr>\n",
              "      <th>3443</th>\n",
              "      <td>2020-03-05</td>\n",
              "      <td>Unknown</td>\n",
              "      <td>Malaysia</td>\n",
              "      <td>2020-03-04T13:03:08</td>\n",
              "      <td>50</td>\n",
              "      <td>0</td>\n",
              "      <td>22</td>\n",
              "    </tr>\n",
              "    <tr>\n",
              "      <th>3610</th>\n",
              "      <td>2020-03-06</td>\n",
              "      <td>Unknown</td>\n",
              "      <td>Malaysia</td>\n",
              "      <td>2020-03-06T12:33:03</td>\n",
              "      <td>83</td>\n",
              "      <td>0</td>\n",
              "      <td>22</td>\n",
              "    </tr>\n",
              "    <tr>\n",
              "      <th>3809</th>\n",
              "      <td>2020-03-07</td>\n",
              "      <td>Unknown</td>\n",
              "      <td>Malaysia</td>\n",
              "      <td>2020-03-07T17:53:03</td>\n",
              "      <td>93</td>\n",
              "      <td>0</td>\n",
              "      <td>23</td>\n",
              "    </tr>\n",
              "    <tr>\n",
              "      <th>4034</th>\n",
              "      <td>2020-03-08</td>\n",
              "      <td>Unknown</td>\n",
              "      <td>Malaysia</td>\n",
              "      <td>2020-03-08T14:43:03</td>\n",
              "      <td>99</td>\n",
              "      <td>0</td>\n",
              "      <td>24</td>\n",
              "    </tr>\n",
              "    <tr>\n",
              "      <th>4288</th>\n",
              "      <td>2020-03-09</td>\n",
              "      <td>Unknown</td>\n",
              "      <td>Malaysia</td>\n",
              "      <td>2020-03-09T09:43:03</td>\n",
              "      <td>117</td>\n",
              "      <td>0</td>\n",
              "      <td>24</td>\n",
              "    </tr>\n",
              "    <tr>\n",
              "      <th>4556</th>\n",
              "      <td>2020-03-10</td>\n",
              "      <td>Unknown</td>\n",
              "      <td>Malaysia</td>\n",
              "      <td>2020-03-10T16:33:13</td>\n",
              "      <td>129</td>\n",
              "      <td>0</td>\n",
              "      <td>24</td>\n",
              "    </tr>\n",
              "    <tr>\n",
              "      <th>4761</th>\n",
              "      <td>2020-03-11</td>\n",
              "      <td>Unknown</td>\n",
              "      <td>Malaysia</td>\n",
              "      <td>2020-03-11T11:33:08</td>\n",
              "      <td>149</td>\n",
              "      <td>0</td>\n",
              "      <td>26</td>\n",
              "    </tr>\n",
              "  </tbody>\n",
              "</table>\n",
              "</div>"
            ],
            "text/plain": [
              "            date Province_State Country_Region  ... Confirmed  Deaths  Recovered\n",
              "78    2020-01-23        Unknown       Malaysia  ...         0       0          0\n",
              "168   2020-01-25        Unknown       Malaysia  ...         3       0          0\n",
              "214   2020-01-26        Unknown       Malaysia  ...         4       0          0\n",
              "260   2020-01-27        Unknown       Malaysia  ...         4       0          0\n",
              "311   2020-01-28        Unknown       Malaysia  ...         4       0          0\n",
              "363   2020-01-29        Unknown       Malaysia  ...         7       0          0\n",
              "418   2020-01-30        Unknown       Malaysia  ...         8       0          0\n",
              "469   2020-01-31        Unknown       Malaysia  ...         8       0          0\n",
              "529   2020-02-01        Unknown       Malaysia  ...         8       0          0\n",
              "598   2020-02-02        Unknown       Malaysia  ...         8       0          0\n",
              "665   2020-02-03        Unknown       Malaysia  ...         8       0          0\n",
              "733   2020-02-04        Unknown       Malaysia  ...        10       0          0\n",
              "801   2020-02-05        Unknown       Malaysia  ...        12       0          0\n",
              "873   2020-02-06        Unknown       Malaysia  ...        12       0          0\n",
              "945   2020-02-07        Unknown       Malaysia  ...        12       0          1\n",
              "1016  2020-02-08        Unknown       Malaysia  ...        16       0          1\n",
              "1088  2020-02-09        Unknown       Malaysia  ...        16       0          1\n",
              "1159  2020-02-10        Unknown       Malaysia  ...        18       0          1\n",
              "1231  2020-02-11        Unknown       Malaysia  ...        18       0          3\n",
              "1304  2020-02-12        Unknown       Malaysia  ...        18       0          3\n",
              "1376  2020-02-13        Unknown       Malaysia  ...        19       0          3\n",
              "1450  2020-02-14        Unknown       Malaysia  ...        19       0          3\n",
              "1525  2020-02-15        Unknown       Malaysia  ...        22       0          7\n",
              "1600  2020-02-16        Unknown       Malaysia  ...        22       0          7\n",
              "1675  2020-02-17        Unknown       Malaysia  ...        22       0          7\n",
              "1750  2020-02-18        Unknown       Malaysia  ...        22       0         13\n",
              "1826  2020-02-19        Unknown       Malaysia  ...        22       0         15\n",
              "1902  2020-02-20        Unknown       Malaysia  ...        22       0         15\n",
              "1978  2020-02-21        Unknown       Malaysia  ...        22       0         15\n",
              "2064  2020-02-22        Unknown       Malaysia  ...        22       0         15\n",
              "2148  2020-02-23        Unknown       Malaysia  ...        22       0         15\n",
              "2234  2020-02-24        Unknown       Malaysia  ...        22       0         18\n",
              "2325  2020-02-25        Unknown       Malaysia  ...        22       0         18\n",
              "2421  2020-02-26        Unknown       Malaysia  ...        22       0         18\n",
              "2523  2020-02-27        Unknown       Malaysia  ...        23       0         18\n",
              "2629  2020-02-28        Unknown       Malaysia  ...        23       0         18\n",
              "2743  2020-02-29        Unknown       Malaysia  ...        25       0         18\n",
              "2863  2020-03-01        Unknown       Malaysia  ...        29       0         18\n",
              "2989  2020-03-02        Unknown       Malaysia  ...        29       0         18\n",
              "3130  2020-03-03        Unknown       Malaysia  ...        36       0         22\n",
              "3279  2020-03-04        Unknown       Malaysia  ...        50       0         22\n",
              "3443  2020-03-05        Unknown       Malaysia  ...        50       0         22\n",
              "3610  2020-03-06        Unknown       Malaysia  ...        83       0         22\n",
              "3809  2020-03-07        Unknown       Malaysia  ...        93       0         23\n",
              "4034  2020-03-08        Unknown       Malaysia  ...        99       0         24\n",
              "4288  2020-03-09        Unknown       Malaysia  ...       117       0         24\n",
              "4556  2020-03-10        Unknown       Malaysia  ...       129       0         24\n",
              "4761  2020-03-11        Unknown       Malaysia  ...       149       0         26\n",
              "\n",
              "[48 rows x 7 columns]"
            ]
          },
          "metadata": {
            "tags": []
          },
          "execution_count": 92
        }
      ]
    },
    {
      "cell_type": "code",
      "metadata": {
        "id": "4rACNT75k4rM",
        "colab_type": "code",
        "colab": {}
      },
      "source": [
        "world_data[\"Country_Region\"].replace({\"Mainland China\": \"China\", \"Congo (Kinshasa)\": \"Democratic Republic of Congo\", \"Ivory Coast\": \"Cote d'Ivoire\", \"Faroe Islands\": \"Faeroe Islands\", \"Vatican City\t\": \"Vatican\", \"Republic of Ireland\": \"Ireland\", \"North Ireland\": \"Ireland\", \"North Macedonia\": \"Macedonia\", \"Saint Barthelemy\": \"Saint Barthlemy\", \"('St. Martin',)\": \"Saint Martin (French part)\", \"St. Martin\": \"Saint Martin (French part)\", \"UK\": \"United Kingdom\", \"US\": \"United States\"}, inplace=True)"
      ],
      "execution_count": 0,
      "outputs": []
    },
    {
      "cell_type": "code",
      "metadata": {
        "id": "FplzmqCJjwb3",
        "colab_type": "code",
        "outputId": "b6cee784-9dce-4c4b-c09f-40f32349941c",
        "colab": {
          "base_uri": "https://localhost:8080/",
          "height": 34
        }
      },
      "source": [
        "world_data[\"Country_Region\"].nunique()"
      ],
      "execution_count": 94,
      "outputs": [
        {
          "output_type": "execute_result",
          "data": {
            "text/plain": [
              "125"
            ]
          },
          "metadata": {
            "tags": []
          },
          "execution_count": 94
        }
      ]
    },
    {
      "cell_type": "code",
      "metadata": {
        "id": "5bBJxxVDsz7g",
        "colab_type": "code",
        "outputId": "fad66d87-ac03-42fd-f44a-0463028d1846",
        "colab": {
          "base_uri": "https://localhost:8080/",
          "height": 504
        }
      },
      "source": [
        "plt.figure(figsize=(10,8))\n",
        "sns.heatmap(world_data.corr(), cmap=\"YlGnBu\")"
      ],
      "execution_count": 95,
      "outputs": [
        {
          "output_type": "execute_result",
          "data": {
            "text/plain": [
              "<matplotlib.axes._subplots.AxesSubplot at 0x7f3b1137f080>"
            ]
          },
          "metadata": {
            "tags": []
          },
          "execution_count": 95
        },
        {
          "output_type": "display_data",
          "data": {
            "image/png": "[encoded data removed]",
            "text/plain": [
              "<Figure size 720x576 with 2 Axes>"
            ]
          },
          "metadata": {
            "tags": []
          }
        }
      ]
    },
    {
      "cell_type": "code",
      "metadata": {
        "id": "vh9u6bEAzZUv",
        "colab_type": "code",
        "outputId": "ed65d159-c745-43df-9212-65e88c3b151c",
        "colab": {
          "base_uri": "https://localhost:8080/",
          "height": 142
        }
      },
      "source": [
        "world_data.corr()"
      ],
      "execution_count": 96,
      "outputs": [
        {
          "output_type": "execute_result",
          "data": {
            "text/html": [
              "<div>\n",
              "<style scoped>\n",
              "    .dataframe tbody tr th:only-of-type {\n",
              "        vertical-align: middle;\n",
              "    }\n",
              "\n",
              "    .dataframe tbody tr th {\n",
              "        vertical-align: top;\n",
              "    }\n",
              "\n",
              "    .dataframe thead th {\n",
              "        text-align: right;\n",
              "    }\n",
              "</style>\n",
              "<table border=\"1\" class=\"dataframe\">\n",
              "  <thead>\n",
              "    <tr style=\"text-align: right;\">\n",
              "      <th></th>\n",
              "      <th>Confirmed</th>\n",
              "      <th>Deaths</th>\n",
              "      <th>Recovered</th>\n",
              "    </tr>\n",
              "  </thead>\n",
              "  <tbody>\n",
              "    <tr>\n",
              "      <th>Confirmed</th>\n",
              "      <td>1.000000</td>\n",
              "      <td>0.986453</td>\n",
              "      <td>0.861006</td>\n",
              "    </tr>\n",
              "    <tr>\n",
              "      <th>Deaths</th>\n",
              "      <td>0.986453</td>\n",
              "      <td>1.000000</td>\n",
              "      <td>0.918569</td>\n",
              "    </tr>\n",
              "    <tr>\n",
              "      <th>Recovered</th>\n",
              "      <td>0.861006</td>\n",
              "      <td>0.918569</td>\n",
              "      <td>1.000000</td>\n",
              "    </tr>\n",
              "  </tbody>\n",
              "</table>\n",
              "</div>"
            ],
            "text/plain": [
              "           Confirmed    Deaths  Recovered\n",
              "Confirmed   1.000000  0.986453   0.861006\n",
              "Deaths      0.986453  1.000000   0.918569\n",
              "Recovered   0.861006  0.918569   1.000000"
            ]
          },
          "metadata": {
            "tags": []
          },
          "execution_count": 96
        }
      ]
    },
    {
      "cell_type": "code",
      "metadata": {
        "id": "Nxc1Ple_zzn0",
        "colab_type": "code",
        "outputId": "5df95362-821d-44d5-e122-c273968e8bca",
        "colab": {
          "base_uri": "https://localhost:8080/",
          "height": 584
        }
      },
      "source": [
        "sns.pairplot(world_data)"
      ],
      "execution_count": 97,
      "outputs": [
        {
          "output_type": "execute_result",
          "data": {
            "text/plain": [
              "<seaborn.axisgrid.PairGrid at 0x7f3b11777a20>"
            ]
          },
          "metadata": {
            "tags": []
          },
          "execution_count": 97
        },
        {
          "output_type": "display_data",
          "data": {
            "image/png": "[encoded data removed]",
            "text/plain": [
              "<Figure size 540x540 with 12 Axes>"
            ]
          },
          "metadata": {
            "tags": []
          }
        }
      ]
    },
    {
      "cell_type": "code",
      "metadata": {
        "id": "-sgxRl57-GMs",
        "colab_type": "code",
        "colab": {}
      },
      "source": [
        "new_data_combined = pd.merge(world_data, who_data, how='outer', on=['date', 'Country_Region'])"
      ],
      "execution_count": 0,
      "outputs": []
    },
    {
      "cell_type": "code",
      "metadata": {
        "id": "msWexovhTIpe",
        "colab_type": "code",
        "outputId": "ad1332cd-7de7-499b-f77a-0c8d057b68a2",
        "colab": {
          "base_uri": "https://localhost:8080/",
          "height": 289
        }
      },
      "source": [
        "new_data_combined.info()"
      ],
      "execution_count": 99,
      "outputs": [
        {
          "output_type": "stream",
          "text": [
            "<class 'pandas.core.frame.DataFrame'>\n",
            "Int64Index: 5425 entries, 0 to 5424\n",
            "Data columns (total 11 columns):\n",
            "date              5425 non-null object\n",
            "Province_State    4935 non-null object\n",
            "Country_Region    5425 non-null object\n",
            "Last_Update       4935 non-null object\n",
            "Confirmed         4935 non-null float64\n",
            "Deaths            4935 non-null float64\n",
            "Recovered         4935 non-null float64\n",
            "new_cases         5141 non-null float64\n",
            "new_deaths        5141 non-null float64\n",
            "total_cases       5141 non-null float64\n",
            "total_deaths      5141 non-null float64\n",
            "dtypes: float64(7), object(4)\n",
            "memory usage: 508.6+ KB\n"
          ],
          "name": "stdout"
        }
      ]
    },
    {
      "cell_type": "code",
      "metadata": {
        "id": "4BbGVhDc7C-d",
        "colab_type": "code",
        "colab": {}
      },
      "source": [
        "new_data_combined[\"Confirmed\"].fillna(0.0, inplace=True)\n",
        "new_data_combined[\"Deaths\"].fillna(0.0, inplace=True)\n",
        "new_data_combined[\"Recovered\"].fillna(0.0, inplace=True)\n",
        "new_data_combined[\"new_cases\"].fillna(0.0, inplace=True)\n",
        "new_data_combined[\"new_deaths\"].fillna(0.0, inplace=True)\n",
        "new_data_combined[\"total_cases\"].fillna(0.0, inplace=True)\n",
        "new_data_combined[\"total_deaths\"].fillna(0.0, inplace=True)"
      ],
      "execution_count": 0,
      "outputs": []
    },
    {
      "cell_type": "code",
      "metadata": {
        "id": "xHO38_ZBM7Mf",
        "colab_type": "code",
        "colab": {}
      },
      "source": [
        "cols = ['Confirmed', 'Deaths', 'Recovered', 'new_cases', 'new_deaths', 'total_cases', 'total_deaths']\n",
        "new_data_combined[cols] = new_data_combined[cols].applymap(np.int64)"
      ],
      "execution_count": 0,
      "outputs": []
    },
    {
      "cell_type": "code",
      "metadata": {
        "id": "jkkTaeAwNLpq",
        "colab_type": "code",
        "colab": {}
      },
      "source": [
        "from google.colab import files\n",
        "\n",
        "new_data_combined.to_csv(\"covid_new.csv\", index = False, header=True)\n",
        "files.download('covid_new.csv')"
      ],
      "execution_count": 0,
      "outputs": []
    },
    {
      "cell_type": "code",
      "metadata": {
        "id": "EWgEXGoy5RoV",
        "colab_type": "code",
        "outputId": "938bb32d-7dfd-4036-9107-add013f385d0",
        "colab": {
          "base_uri": "https://localhost:8080/",
          "height": 204
        }
      },
      "source": [
        "new_data_combined.head()"
      ],
      "execution_count": 103,
      "outputs": [
        {
          "output_type": "execute_result",
          "data": {
            "text/html": [
              "<div>\n",
              "<style scoped>\n",
              "    .dataframe tbody tr th:only-of-type {\n",
              "        vertical-align: middle;\n",
              "    }\n",
              "\n",
              "    .dataframe tbody tr th {\n",
              "        vertical-align: top;\n",
              "    }\n",
              "\n",
              "    .dataframe thead th {\n",
              "        text-align: right;\n",
              "    }\n",
              "</style>\n",
              "<table border=\"1\" class=\"dataframe\">\n",
              "  <thead>\n",
              "    <tr style=\"text-align: right;\">\n",
              "      <th></th>\n",
              "      <th>date</th>\n",
              "      <th>Province_State</th>\n",
              "      <th>Country_Region</th>\n",
              "      <th>Last_Update</th>\n",
              "      <th>Confirmed</th>\n",
              "      <th>Deaths</th>\n",
              "      <th>Recovered</th>\n",
              "      <th>new_cases</th>\n",
              "      <th>new_deaths</th>\n",
              "      <th>total_cases</th>\n",
              "      <th>total_deaths</th>\n",
              "    </tr>\n",
              "  </thead>\n",
              "  <tbody>\n",
              "    <tr>\n",
              "      <th>0</th>\n",
              "      <td>2020-01-22</td>\n",
              "      <td>Anhui</td>\n",
              "      <td>China</td>\n",
              "      <td>1/22/2020 17:00</td>\n",
              "      <td>1</td>\n",
              "      <td>0</td>\n",
              "      <td>0</td>\n",
              "      <td>32</td>\n",
              "      <td>0</td>\n",
              "      <td>310</td>\n",
              "      <td>6</td>\n",
              "    </tr>\n",
              "    <tr>\n",
              "      <th>1</th>\n",
              "      <td>2020-01-22</td>\n",
              "      <td>Beijing</td>\n",
              "      <td>China</td>\n",
              "      <td>1/22/2020 17:00</td>\n",
              "      <td>14</td>\n",
              "      <td>0</td>\n",
              "      <td>0</td>\n",
              "      <td>32</td>\n",
              "      <td>0</td>\n",
              "      <td>310</td>\n",
              "      <td>6</td>\n",
              "    </tr>\n",
              "    <tr>\n",
              "      <th>2</th>\n",
              "      <td>2020-01-22</td>\n",
              "      <td>Chongqing</td>\n",
              "      <td>China</td>\n",
              "      <td>1/22/2020 17:00</td>\n",
              "      <td>6</td>\n",
              "      <td>0</td>\n",
              "      <td>0</td>\n",
              "      <td>32</td>\n",
              "      <td>0</td>\n",
              "      <td>310</td>\n",
              "      <td>6</td>\n",
              "    </tr>\n",
              "    <tr>\n",
              "      <th>3</th>\n",
              "      <td>2020-01-22</td>\n",
              "      <td>Fujian</td>\n",
              "      <td>China</td>\n",
              "      <td>1/22/2020 17:00</td>\n",
              "      <td>1</td>\n",
              "      <td>0</td>\n",
              "      <td>0</td>\n",
              "      <td>32</td>\n",
              "      <td>0</td>\n",
              "      <td>310</td>\n",
              "      <td>6</td>\n",
              "    </tr>\n",
              "    <tr>\n",
              "      <th>4</th>\n",
              "      <td>2020-01-22</td>\n",
              "      <td>Gansu</td>\n",
              "      <td>China</td>\n",
              "      <td>1/22/2020 17:00</td>\n",
              "      <td>0</td>\n",
              "      <td>0</td>\n",
              "      <td>0</td>\n",
              "      <td>32</td>\n",
              "      <td>0</td>\n",
              "      <td>310</td>\n",
              "      <td>6</td>\n",
              "    </tr>\n",
              "  </tbody>\n",
              "</table>\n",
              "</div>"
            ],
            "text/plain": [
              "         date Province_State  ... total_cases total_deaths\n",
              "0  2020-01-22          Anhui  ...         310            6\n",
              "1  2020-01-22        Beijing  ...         310            6\n",
              "2  2020-01-22      Chongqing  ...         310            6\n",
              "3  2020-01-22         Fujian  ...         310            6\n",
              "4  2020-01-22          Gansu  ...         310            6\n",
              "\n",
              "[5 rows x 11 columns]"
            ]
          },
          "metadata": {
            "tags": []
          },
          "execution_count": 103
        }
      ]
    },
    {
      "cell_type": "code",
      "metadata": {
        "id": "VPJkSzfG5R1D",
        "colab_type": "code",
        "outputId": "f8df2da2-53e5-404f-da33-f1754a6ebdce",
        "colab": {
          "base_uri": "https://localhost:8080/",
          "height": 497
        }
      },
      "source": [
        "plt.figure(figsize=(14,8))\n",
        "sns.heatmap(new_data_combined.corr(),annot=True,cmap='cubehelix_r')\n",
        "plt.show()"
      ],
      "execution_count": 104,
      "outputs": [
        {
          "output_type": "display_data",
          "data": {
            "image/png": "[encoded data removed]",
            "text/plain": [
              "<Figure size 1008x576 with 2 Axes>"
            ]
          },
          "metadata": {
            "tags": []
          }
        }
      ]
    },
    {
      "cell_type": "code",
      "metadata": {
        "id": "ndTVuWvH7EyP",
        "colab_type": "code",
        "colab": {}
      },
      "source": [
        "new_data_combined_usa = new_data_combined[new_data_combined['Country_Region'] == 'United States']"
      ],
      "execution_count": 0,
      "outputs": []
    },
    {
      "cell_type": "code",
      "metadata": {
        "id": "txUoWlHOYwfh",
        "colab_type": "code",
        "outputId": "71eb348d-6ee7-4ebd-ad72-8f339289fdc5",
        "colab": {
          "base_uri": "https://localhost:8080/",
          "height": 289
        }
      },
      "source": [
        "new_data_combined_usa.info()"
      ],
      "execution_count": 106,
      "outputs": [
        {
          "output_type": "stream",
          "text": [
            "<class 'pandas.core.frame.DataFrame'>\n",
            "Int64Index: 1006 entries, 34 to 5366\n",
            "Data columns (total 11 columns):\n",
            "date              1006 non-null object\n",
            "Province_State    1003 non-null object\n",
            "Country_Region    1006 non-null object\n",
            "Last_Update       1003 non-null object\n",
            "Confirmed         1006 non-null int64\n",
            "Deaths            1006 non-null int64\n",
            "Recovered         1006 non-null int64\n",
            "new_cases         1006 non-null int64\n",
            "new_deaths        1006 non-null int64\n",
            "total_cases       1006 non-null int64\n",
            "total_deaths      1006 non-null int64\n",
            "dtypes: int64(7), object(4)\n",
            "memory usage: 94.3+ KB\n"
          ],
          "name": "stdout"
        }
      ]
    },
    {
      "cell_type": "code",
      "metadata": {
        "id": "FhaFUqG5afj1",
        "colab_type": "code",
        "outputId": "9bf43413-99ad-4822-d662-e7a580af1dbe",
        "colab": {
          "base_uri": "https://localhost:8080/",
          "height": 136
        }
      },
      "source": [
        "new_data_combined_usa[\"Province_State\"].fillna(\"Unknown\", inplace=True)"
      ],
      "execution_count": 107,
      "outputs": [
        {
          "output_type": "stream",
          "text": [
            "/usr/local/lib/python3.6/dist-packages/pandas/core/generic.py:6287: SettingWithCopyWarning:\n",
            "\n",
            "\n",
            "A value is trying to be set on a copy of a slice from a DataFrame\n",
            "\n",
            "See the caveats in the documentation: http://pandas.pydata.org/pandas-docs/stable/user_guide/indexing.html#returning-a-view-versus-a-copy\n",
            "\n"
          ],
          "name": "stderr"
        }
      ]
    },
    {
      "cell_type": "code",
      "metadata": {
        "id": "BOxNOPgOkZh9",
        "colab_type": "code",
        "colab": {}
      },
      "source": [
        "new_us_data_gzc = new_data_combined_usa[new_data_combined_usa['Confirmed'] > 0]"
      ],
      "execution_count": 0,
      "outputs": []
    },
    {
      "cell_type": "code",
      "metadata": {
        "id": "tvHYsvnEmMwq",
        "colab_type": "code",
        "colab": {}
      },
      "source": [
        "new_us_data_gzd = new_data_combined_usa[new_data_combined_usa['Deaths'] > 0]"
      ],
      "execution_count": 0,
      "outputs": []
    },
    {
      "cell_type": "code",
      "metadata": {
        "id": "3P7r0a7gpeqM",
        "colab_type": "code",
        "colab": {}
      },
      "source": [
        "new_us_data_gzr = new_data_combined_usa[new_data_combined_usa['Recovered'] > 0]"
      ],
      "execution_count": 0,
      "outputs": []
    },
    {
      "cell_type": "code",
      "metadata": {
        "id": "i-no815dks8Z",
        "colab_type": "code",
        "outputId": "5906b332-df23-4a31-e112-9bc6d97338c8",
        "colab": {
          "base_uri": "https://localhost:8080/",
          "height": 542
        }
      },
      "source": [
        "fig = go.Figure([go.Scatter(x=new_us_data_gzc['date'], y=new_us_data_gzc['Confirmed'])])\n",
        "fig.show()"
      ],
      "execution_count": 111,
      "outputs": [
        {
          "output_type": "display_data",
          "data": {
            "text/html": [
              "<html>\n",
              "<head><meta charset=\"utf-8\" /></head>\n",
              "<body>\n",
              "    <div>\n",
              "            <script src=\"https://cdnjs.cloudflare.com/ajax/libs/mathjax/2.7.5/MathJax.js?config=TeX-AMS-MML_SVG\"></script><script type=\"text/javascript\">if (window.MathJax) {MathJax.Hub.Config({SVG: {font: \"STIX-Web\"}});}</script>\n",
              "                <script type=\"text/javascript\">window.PlotlyConfig = {MathJaxConfig: 'local'};</script>\n",
              "        <script src=\"https://cdn.plot.ly/plotly-latest.min.js\"></script>    \n",
              "            <div id=\"06aae126-b485-4664-9945-5e3d30754b05\" class=\"plotly-graph-div\" style=\"height:525px; width:100%;\"></div>\n",
              "            <script type=\"text/javascript\">\n",
              "                \n",
              "                    window.PLOTLYENV=window.PLOTLYENV || {};\n",
              "                    \n",
              "                if (document.getElementById(\"06aae126-b485-4664-9945-5e3d30754b05\")) {\n",
              "                    Plotly.newPlot(\n",
              "                        '06aae126-b485-4664-9945-5e3d30754b05',\n",
              "                        [{\"type\": \"scatter\", \"x\": [\"2020-01-22\", \"2020-01-23\", \"2020-01-24\", \"2020-01-24\", \"2020-01-25\", \"2020-01-25\", \"2020-01-26\", \"2020-01-26\", \"2020-01-26\", \"2020-01-26\", \"2020-01-27\", \"2020-01-27\", \"2020-01-27\", \"2020-01-27\", \"2020-01-28\", \"2020-01-28\", \"2020-01-28\", \"2020-01-28\", \"2020-01-29\", \"2020-01-29\", \"2020-01-29\", \"2020-01-29\", \"2020-01-30\", \"2020-01-30\", \"2020-01-30\", \"2020-01-30\", \"2020-01-31\", \"2020-01-31\", \"2020-01-31\", \"2020-01-31\", \"2020-02-01\", \"2020-02-01\", \"2020-02-01\", \"2020-02-01\", \"2020-02-01\", \"2020-02-01\", \"2020-02-01\", \"2020-02-02\", \"2020-02-02\", \"2020-02-02\", \"2020-02-02\", \"2020-02-02\", \"2020-02-02\", \"2020-02-02\", \"2020-02-03\", \"2020-02-03\", \"2020-02-03\", \"2020-02-03\", \"2020-02-03\", \"2020-02-03\", \"2020-02-03\", \"2020-02-03\", \"2020-02-04\", \"2020-02-04\", \"2020-02-04\", \"2020-02-04\", \"2020-02-04\", \"2020-02-04\", \"2020-02-04\", \"2020-02-04\", \"2020-02-05\", \"2020-02-05\", \"2020-02-05\", \"2020-02-05\", \"2020-02-05\", \"2020-02-05\", \"2020-02-05\", \"2020-02-05\", \"2020-02-05\", \"2020-02-06\", \"2020-02-06\", \"2020-02-06\", \"2020-02-06\", \"2020-02-06\", \"2020-02-06\", \"2020-02-06\", \"2020-02-06\", \"2020-02-06\", \"2020-02-07\", \"2020-02-07\", \"2020-02-07\", \"2020-02-07\", \"2020-02-07\", \"2020-02-07\", \"2020-02-07\", \"2020-02-07\", \"2020-02-07\", \"2020-02-08\", \"2020-02-08\", \"2020-02-08\", \"2020-02-08\", \"2020-02-08\", \"2020-02-08\", \"2020-02-08\", \"2020-02-08\", \"2020-02-08\", \"2020-02-09\", \"2020-02-09\", \"2020-02-09\", \"2020-02-09\", \"2020-02-09\", \"2020-02-09\", \"2020-02-09\", \"2020-02-09\", \"2020-02-09\", \"2020-02-10\", \"2020-02-10\", \"2020-02-10\", \"2020-02-10\", \"2020-02-10\", \"2020-02-10\", \"2020-02-10\", \"2020-02-10\", \"2020-02-10\", \"2020-02-11\", \"2020-02-11\", \"2020-02-11\", \"2020-02-11\", \"2020-02-11\", \"2020-02-11\", \"2020-02-11\", \"2020-02-11\", \"2020-02-11\", \"2020-02-11\", \"2020-02-12\", \"2020-02-12\", \"2020-02-12\", \"2020-02-12\", \"2020-02-12\", \"2020-02-12\", \"2020-02-12\", \"2020-02-12\", \"2020-02-12\", \"2020-02-12\", \"2020-02-13\", \"2020-02-13\", \"2020-02-13\", \"2020-02-13\", \"2020-02-13\", \"2020-02-13\", \"2020-02-13\", \"2020-02-13\", \"2020-02-13\", \"2020-02-13\", \"2020-02-13\", \"2020-02-14\", \"2020-02-14\", \"2020-02-14\", \"2020-02-14\", \"2020-02-14\", \"2020-02-14\", \"2020-02-14\", \"2020-02-14\", \"2020-02-14\", \"2020-02-14\", \"2020-02-14\", \"2020-02-15\", \"2020-02-15\", \"2020-02-15\", \"2020-02-15\", \"2020-02-15\", \"2020-02-15\", \"2020-02-15\", \"2020-02-15\", \"2020-02-15\", \"2020-02-15\", \"2020-02-15\", \"2020-02-16\", \"2020-02-16\", \"2020-02-16\", \"2020-02-16\", \"2020-02-16\", \"2020-02-16\", \"2020-02-16\", \"2020-02-16\", \"2020-02-16\", \"2020-02-16\", \"2020-02-16\", \"2020-02-17\", \"2020-02-17\", \"2020-02-17\", \"2020-02-17\", \"2020-02-17\", \"2020-02-17\", \"2020-02-17\", \"2020-02-17\", \"2020-02-17\", \"2020-02-17\", \"2020-02-17\", \"2020-02-18\", \"2020-02-18\", \"2020-02-18\", \"2020-02-18\", \"2020-02-18\", \"2020-02-18\", \"2020-02-18\", \"2020-02-18\", \"2020-02-18\", \"2020-02-18\", \"2020-02-18\", \"2020-02-19\", \"2020-02-19\", \"2020-02-19\", \"2020-02-19\", \"2020-02-19\", \"2020-02-19\", \"2020-02-19\", \"2020-02-19\", \"2020-02-19\", \"2020-02-19\", \"2020-02-19\", \"2020-02-20\", \"2020-02-20\", \"2020-02-20\", \"2020-02-20\", \"2020-02-20\", \"2020-02-20\", \"2020-02-20\", \"2020-02-20\", \"2020-02-20\", \"2020-02-20\", \"2020-02-20\", \"2020-02-21\", \"2020-02-21\", \"2020-02-21\", \"2020-02-21\", \"2020-02-21\", \"2020-02-21\", \"2020-02-21\", \"2020-02-21\", \"2020-02-21\", \"2020-02-21\", \"2020-02-21\", \"2020-02-21\", \"2020-02-21\", \"2020-02-21\", \"2020-02-21\", \"2020-02-21\", \"2020-02-22\", \"2020-02-22\", \"2020-02-22\", \"2020-02-22\", \"2020-02-22\", \"2020-02-22\", \"2020-02-22\", \"2020-02-22\", \"2020-02-22\", \"2020-02-22\", \"2020-02-22\", \"2020-02-22\", \"2020-02-22\", \"2020-02-22\", \"2020-02-22\", \"2020-02-22\", \"2020-02-23\", \"2020-02-23\", \"2020-02-23\", \"2020-02-23\", \"2020-02-23\", \"2020-02-23\", \"2020-02-23\", \"2020-02-23\", \"2020-02-23\", \"2020-02-23\", \"2020-02-23\", \"2020-02-23\", \"2020-02-23\", \"2020-02-23\", \"2020-02-23\", \"2020-02-23\", \"2020-02-24\", \"2020-02-24\", \"2020-02-24\", \"2020-02-24\", \"2020-02-24\", \"2020-02-24\", \"2020-02-24\", \"2020-02-24\", \"2020-02-24\", \"2020-02-24\", \"2020-02-24\", \"2020-02-24\", \"2020-02-24\", \"2020-02-24\", \"2020-02-25\", \"2020-02-25\", \"2020-02-25\", \"2020-02-25\", \"2020-02-25\", \"2020-02-25\", \"2020-02-25\", \"2020-02-25\", \"2020-02-25\", \"2020-02-25\", \"2020-02-25\", \"2020-02-25\", \"2020-02-25\", \"2020-02-25\", \"2020-02-26\", \"2020-02-26\", \"2020-02-26\", \"2020-02-26\", \"2020-02-26\", \"2020-02-26\", \"2020-02-26\", \"2020-02-26\", \"2020-02-26\", \"2020-02-26\", \"2020-02-26\", \"2020-02-26\", \"2020-02-26\", \"2020-02-26\", \"2020-02-27\", \"2020-02-27\", \"2020-02-27\", \"2020-02-27\", \"2020-02-27\", \"2020-02-27\", \"2020-02-27\", \"2020-02-27\", \"2020-02-27\", \"2020-02-27\", \"2020-02-27\", \"2020-02-27\", \"2020-02-27\", \"2020-02-27\", \"2020-02-28\", \"2020-02-28\", \"2020-02-28\", \"2020-02-28\", \"2020-02-28\", \"2020-02-28\", \"2020-02-28\", \"2020-02-28\", \"2020-02-28\", \"2020-02-28\", \"2020-02-28\", \"2020-02-28\", \"2020-02-28\", \"2020-02-28\", \"2020-02-29\", \"2020-02-29\", \"2020-02-29\", \"2020-02-29\", \"2020-02-29\", \"2020-02-29\", \"2020-02-29\", \"2020-02-29\", \"2020-02-29\", \"2020-02-29\", \"2020-02-29\", \"2020-02-29\", \"2020-02-29\", \"2020-02-29\", \"2020-02-29\", \"2020-02-29\", \"2020-03-01\", \"2020-03-01\", \"2020-03-01\", \"2020-03-01\", \"2020-03-01\", \"2020-03-01\", \"2020-03-01\", \"2020-03-01\", \"2020-03-01\", \"2020-03-01\", \"2020-03-01\", \"2020-03-01\", \"2020-03-01\", \"2020-03-01\", \"2020-03-01\", \"2020-03-01\", \"2020-03-01\", \"2020-03-02\", \"2020-03-02\", \"2020-03-02\", \"2020-03-02\", \"2020-03-02\", \"2020-03-02\", \"2020-03-02\", \"2020-03-02\", \"2020-03-02\", \"2020-03-02\", \"2020-03-02\", \"2020-03-02\", \"2020-03-02\", \"2020-03-02\", \"2020-03-02\", \"2020-03-02\", \"2020-03-02\", \"2020-03-02\", \"2020-03-02\", \"2020-03-02\", \"2020-03-02\", \"2020-03-02\", \"2020-03-02\", \"2020-03-02\", \"2020-03-02\", \"2020-03-03\", \"2020-03-03\", \"2020-03-03\", \"2020-03-03\", \"2020-03-03\", \"2020-03-03\", \"2020-03-03\", \"2020-03-03\", \"2020-03-03\", \"2020-03-03\", \"2020-03-03\", \"2020-03-03\", \"2020-03-03\", \"2020-03-03\", \"2020-03-03\", \"2020-03-03\", \"2020-03-03\", \"2020-03-03\", \"2020-03-03\", \"2020-03-03\", \"2020-03-03\", \"2020-03-03\", \"2020-03-03\", \"2020-03-03\", \"2020-03-03\", \"2020-03-03\", \"2020-03-03\", \"2020-03-03\", \"2020-03-03\", \"2020-03-03\", \"2020-03-03\", \"2020-03-04\", \"2020-03-04\", \"2020-03-04\", \"2020-03-04\", \"2020-03-04\", \"2020-03-04\", \"2020-03-04\", \"2020-03-04\", \"2020-03-04\", \"2020-03-04\", \"2020-03-04\", \"2020-03-04\", \"2020-03-04\", \"2020-03-04\", \"2020-03-04\", \"2020-03-04\", \"2020-03-04\", \"2020-03-04\", \"2020-03-04\", \"2020-03-04\", \"2020-03-04\", \"2020-03-04\", \"2020-03-04\", \"2020-03-04\", \"2020-03-04\", \"2020-03-04\", \"2020-03-04\", \"2020-03-04\", \"2020-03-04\", \"2020-03-04\", \"2020-03-04\", \"2020-03-04\", \"2020-03-05\", \"2020-03-05\", \"2020-03-05\", \"2020-03-05\", \"2020-03-05\", \"2020-03-05\", \"2020-03-05\", \"2020-03-05\", \"2020-03-05\", \"2020-03-05\", \"2020-03-05\", \"2020-03-05\", \"2020-03-05\", \"2020-03-05\", \"2020-03-05\", \"2020-03-05\", \"2020-03-05\", \"2020-03-05\", \"2020-03-05\", \"2020-03-05\", \"2020-03-05\", \"2020-03-05\", \"2020-03-05\", \"2020-03-05\", \"2020-03-05\", \"2020-03-05\", \"2020-03-05\", \"2020-03-05\", \"2020-03-05\", \"2020-03-05\", \"2020-03-05\", \"2020-03-05\", \"2020-03-05\", \"2020-03-05\", \"2020-03-05\", \"2020-03-05\", \"2020-03-05\", \"2020-03-05\", \"2020-03-05\", \"2020-03-05\", \"2020-03-05\", \"2020-03-06\", \"2020-03-06\", \"2020-03-06\", \"2020-03-06\", \"2020-03-06\", \"2020-03-06\", \"2020-03-06\", \"2020-03-06\", \"2020-03-06\", \"2020-03-06\", \"2020-03-06\", \"2020-03-06\", \"2020-03-06\", \"2020-03-06\", \"2020-03-06\", \"2020-03-06\", \"2020-03-06\", \"2020-03-06\", \"2020-03-06\", \"2020-03-06\", \"2020-03-06\", \"2020-03-06\", \"2020-03-06\", \"2020-03-06\", \"2020-03-06\", \"2020-03-06\", \"2020-03-06\", \"2020-03-06\", \"2020-03-06\", \"2020-03-06\", \"2020-03-06\", \"2020-03-06\", \"2020-03-06\", \"2020-03-06\", \"2020-03-06\", \"2020-03-06\", \"2020-03-06\", \"2020-03-06\", \"2020-03-06\", \"2020-03-06\", \"2020-03-06\", \"2020-03-06\", \"2020-03-06\", \"2020-03-06\", \"2020-03-06\", \"2020-03-06\", \"2020-03-06\", \"2020-03-06\", \"2020-03-06\", \"2020-03-06\", \"2020-03-06\", \"2020-03-06\", \"2020-03-06\", \"2020-03-06\", \"2020-03-06\", \"2020-03-06\", \"2020-03-06\", \"2020-03-07\", \"2020-03-07\", \"2020-03-07\", \"2020-03-07\", \"2020-03-07\", \"2020-03-07\", \"2020-03-07\", \"2020-03-07\", \"2020-03-07\", \"2020-03-07\", \"2020-03-07\", \"2020-03-07\", \"2020-03-07\", \"2020-03-07\", \"2020-03-07\", \"2020-03-07\", \"2020-03-07\", \"2020-03-07\", \"2020-03-07\", \"2020-03-07\", \"2020-03-07\", \"2020-03-07\", \"2020-03-07\", \"2020-03-07\", \"2020-03-07\", \"2020-03-07\", \"2020-03-07\", \"2020-03-07\", \"2020-03-07\", \"2020-03-07\", \"2020-03-07\", \"2020-03-07\", \"2020-03-07\", \"2020-03-07\", \"2020-03-07\", \"2020-03-07\", \"2020-03-07\", \"2020-03-07\", \"2020-03-07\", \"2020-03-07\", \"2020-03-07\", \"2020-03-07\", \"2020-03-07\", \"2020-03-07\", \"2020-03-07\", \"2020-03-07\", \"2020-03-07\", \"2020-03-07\", \"2020-03-07\", \"2020-03-07\", \"2020-03-07\", \"2020-03-07\", \"2020-03-07\", \"2020-03-07\", \"2020-03-07\", \"2020-03-07\", \"2020-03-07\", \"2020-03-07\", \"2020-03-07\", \"2020-03-07\", \"2020-03-07\", \"2020-03-07\", \"2020-03-07\", \"2020-03-07\", \"2020-03-07\", \"2020-03-07\", \"2020-03-07\", \"2020-03-07\", \"2020-03-07\", \"2020-03-07\", \"2020-03-07\", \"2020-03-07\", \"2020-03-07\", \"2020-03-07\", \"2020-03-07\", \"2020-03-07\", \"2020-03-07\", \"2020-03-07\", \"2020-03-08\", \"2020-03-08\", \"2020-03-08\", \"2020-03-08\", \"2020-03-08\", \"2020-03-08\", \"2020-03-08\", \"2020-03-08\", \"2020-03-08\", \"2020-03-08\", \"2020-03-08\", \"2020-03-08\", \"2020-03-08\", \"2020-03-08\", \"2020-03-08\", \"2020-03-08\", \"2020-03-08\", \"2020-03-08\", \"2020-03-08\", \"2020-03-08\", \"2020-03-08\", \"2020-03-08\", \"2020-03-08\", \"2020-03-08\", \"2020-03-08\", \"2020-03-08\", \"2020-03-08\", \"2020-03-08\", \"2020-03-08\", \"2020-03-08\", \"2020-03-08\", \"2020-03-08\", \"2020-03-08\", \"2020-03-08\", \"2020-03-08\", \"2020-03-08\", \"2020-03-08\", \"2020-03-08\", \"2020-03-08\", \"2020-03-08\", \"2020-03-08\", \"2020-03-08\", \"2020-03-08\", \"2020-03-08\", \"2020-03-08\", \"2020-03-08\", \"2020-03-08\", \"2020-03-08\", \"2020-03-08\", \"2020-03-08\", \"2020-03-08\", \"2020-03-08\", \"2020-03-08\", \"2020-03-08\", \"2020-03-08\", \"2020-03-08\", \"2020-03-08\", \"2020-03-08\", \"2020-03-08\", \"2020-03-08\", \"2020-03-08\", \"2020-03-08\", \"2020-03-08\", \"2020-03-08\", \"2020-03-08\", \"2020-03-08\", \"2020-03-08\", \"2020-03-08\", \"2020-03-08\", \"2020-03-08\", \"2020-03-08\", \"2020-03-08\", \"2020-03-08\", \"2020-03-08\", \"2020-03-08\", \"2020-03-08\", \"2020-03-08\", \"2020-03-08\", \"2020-03-08\", \"2020-03-08\", \"2020-03-08\", \"2020-03-08\", \"2020-03-08\", \"2020-03-08\", \"2020-03-08\", \"2020-03-08\", \"2020-03-08\", \"2020-03-08\", \"2020-03-08\", \"2020-03-08\", \"2020-03-08\", \"2020-03-08\", \"2020-03-08\", \"2020-03-08\", \"2020-03-08\", \"2020-03-08\", \"2020-03-08\", \"2020-03-08\", \"2020-03-08\", \"2020-03-08\", \"2020-03-08\", \"2020-03-08\", \"2020-03-09\", \"2020-03-09\", \"2020-03-09\", \"2020-03-09\", \"2020-03-09\", \"2020-03-09\", \"2020-03-09\", \"2020-03-09\", \"2020-03-09\", \"2020-03-09\", \"2020-03-09\", \"2020-03-09\", \"2020-03-09\", \"2020-03-09\", \"2020-03-09\", \"2020-03-09\", \"2020-03-09\", \"2020-03-09\", \"2020-03-09\", \"2020-03-09\", \"2020-03-09\", \"2020-03-09\", \"2020-03-09\", \"2020-03-09\", \"2020-03-09\", \"2020-03-09\", \"2020-03-09\", \"2020-03-09\", \"2020-03-09\", \"2020-03-09\", \"2020-03-09\", \"2020-03-09\", \"2020-03-09\", \"2020-03-09\", \"2020-03-09\", \"2020-03-09\", \"2020-03-09\", \"2020-03-09\", \"2020-03-09\", \"2020-03-09\", \"2020-03-09\", \"2020-03-09\", \"2020-03-09\", \"2020-03-09\", \"2020-03-09\", \"2020-03-09\", \"2020-03-09\", \"2020-03-09\", \"2020-03-09\", \"2020-03-09\", \"2020-03-09\", \"2020-03-09\", \"2020-03-09\", \"2020-03-09\", \"2020-03-09\", \"2020-03-09\", \"2020-03-09\", \"2020-03-09\", \"2020-03-09\", \"2020-03-09\", \"2020-03-09\", \"2020-03-09\", \"2020-03-09\", \"2020-03-09\", \"2020-03-09\", \"2020-03-09\", \"2020-03-09\", \"2020-03-09\", \"2020-03-09\", \"2020-03-09\", \"2020-03-09\", \"2020-03-09\", \"2020-03-09\", \"2020-03-09\", \"2020-03-09\", \"2020-03-09\", \"2020-03-09\", \"2020-03-09\", \"2020-03-09\", \"2020-03-09\", \"2020-03-09\", \"2020-03-09\", \"2020-03-09\", \"2020-03-09\", \"2020-03-09\", \"2020-03-09\", \"2020-03-09\", \"2020-03-09\", \"2020-03-09\", \"2020-03-09\", \"2020-03-09\", \"2020-03-09\", \"2020-03-09\", \"2020-03-09\", \"2020-03-09\", \"2020-03-09\", \"2020-03-09\", \"2020-03-09\", \"2020-03-09\", \"2020-03-09\", \"2020-03-09\", \"2020-03-09\", \"2020-03-09\", \"2020-03-09\", \"2020-03-09\", \"2020-03-09\", \"2020-03-09\", \"2020-03-09\", \"2020-03-09\", \"2020-03-09\", \"2020-03-09\", \"2020-03-09\", \"2020-03-10\", \"2020-03-10\", \"2020-03-10\", \"2020-03-10\", \"2020-03-10\", \"2020-03-10\", \"2020-03-10\", \"2020-03-10\", \"2020-03-10\", \"2020-03-10\", \"2020-03-10\", \"2020-03-10\", \"2020-03-10\", \"2020-03-10\", \"2020-03-10\", \"2020-03-10\", \"2020-03-10\", \"2020-03-10\", \"2020-03-10\", \"2020-03-10\", \"2020-03-10\", \"2020-03-10\", \"2020-03-10\", \"2020-03-10\", \"2020-03-10\", \"2020-03-10\", \"2020-03-10\", \"2020-03-10\", \"2020-03-10\", \"2020-03-10\", \"2020-03-10\", \"2020-03-10\", \"2020-03-10\", \"2020-03-10\", \"2020-03-10\", \"2020-03-10\", \"2020-03-10\", \"2020-03-10\", \"2020-03-10\", \"2020-03-11\", \"2020-03-11\", \"2020-03-11\", \"2020-03-11\", \"2020-03-11\", \"2020-03-11\", \"2020-03-11\", \"2020-03-11\", \"2020-03-11\", \"2020-03-11\", \"2020-03-11\", \"2020-03-11\", \"2020-03-11\", \"2020-03-11\", \"2020-03-11\", \"2020-03-11\", \"2020-03-11\", \"2020-03-11\", \"2020-03-11\", \"2020-03-11\", \"2020-03-11\", \"2020-03-11\", \"2020-03-11\", \"2020-03-11\", \"2020-03-11\", \"2020-03-11\", \"2020-03-11\", \"2020-03-11\", \"2020-03-11\", \"2020-03-11\", \"2020-03-11\", \"2020-03-11\", \"2020-03-11\", \"2020-03-11\", \"2020-03-11\", \"2020-03-11\", \"2020-03-11\", \"2020-03-11\", \"2020-03-11\", \"2020-03-11\", \"2020-03-11\", \"2020-03-11\", \"2020-03-11\", \"2020-03-11\", \"2020-03-11\"], \"y\": [1, 1, 1, 1, 1, 1, 1, 1, 2, 1, 1, 1, 2, 1, 1, 1, 2, 1, 1, 1, 2, 1, 1, 1, 2, 1, 2, 2, 1, 1, 2, 1, 1, 1, 1, 1, 1, 2, 1, 1, 1, 1, 1, 1, 2, 2, 2, 1, 1, 1, 1, 1, 2, 2, 2, 1, 1, 1, 1, 1, 2, 2, 2, 1, 1, 1, 1, 1, 1, 2, 2, 2, 1, 1, 1, 1, 1, 1, 2, 2, 2, 1, 1, 1, 1, 1, 1, 2, 2, 2, 1, 1, 1, 1, 1, 1, 2, 2, 2, 1, 1, 1, 1, 1, 1, 2, 2, 2, 1, 1, 1, 1, 1, 1, 2, 2, 2, 1, 1, 1, 1, 1, 1, 1, 2, 2, 2, 1, 1, 1, 1, 1, 1, 1, 2, 2, 2, 2, 1, 1, 1, 1, 1, 1, 1, 2, 2, 2, 2, 1, 1, 1, 1, 1, 1, 1, 2, 2, 2, 2, 1, 1, 1, 1, 1, 1, 1, 2, 2, 2, 2, 1, 1, 1, 1, 1, 1, 1, 2, 2, 2, 2, 1, 1, 1, 1, 1, 1, 1, 2, 2, 2, 2, 1, 1, 1, 1, 1, 1, 1, 2, 2, 2, 2, 1, 1, 1, 1, 1, 1, 1, 2, 2, 2, 2, 1, 1, 1, 1, 1, 1, 1, 11, 5, 2, 2, 2, 2, 2, 1, 1, 1, 1, 1, 1, 1, 1, 1, 11, 5, 2, 2, 2, 2, 2, 1, 1, 1, 1, 1, 1, 1, 1, 1, 11, 5, 2, 2, 2, 2, 2, 1, 1, 1, 1, 1, 1, 1, 1, 1, 36, 2, 2, 2, 2, 1, 1, 1, 1, 1, 1, 1, 1, 1, 36, 2, 2, 2, 2, 1, 1, 1, 1, 1, 1, 1, 1, 1, 42, 2, 2, 2, 2, 1, 1, 1, 1, 1, 1, 1, 1, 1, 42, 2, 2, 2, 2, 2, 1, 1, 1, 1, 1, 1, 1, 1, 44, 2, 2, 2, 2, 2, 1, 1, 1, 1, 1, 1, 1, 1, 44, 6, 3, 2, 2, 2, 2, 1, 1, 1, 1, 1, 1, 1, 1, 1, 44, 9, 3, 3, 2, 2, 2, 2, 1, 1, 1, 1, 1, 1, 1, 1, 1, 45, 14, 9, 4, 4, 2, 2, 2, 2, 2, 1, 1, 1, 1, 1, 1, 1, 1, 1, 1, 1, 1, 1, 1, 1, 45, 21, 11, 6, 4, 2, 2, 2, 2, 2, 2, 2, 2, 2, 1, 1, 1, 1, 1, 1, 1, 1, 1, 1, 1, 1, 1, 1, 1, 1, 1, 45, 31, 11, 10, 8, 7, 4, 3, 2, 2, 2, 2, 2, 2, 2, 2, 2, 2, 1, 1, 1, 1, 1, 1, 1, 1, 1, 1, 1, 1, 1, 1, 51, 45, 20, 18, 18, 11, 5, 4, 3, 3, 2, 2, 2, 2, 2, 2, 2, 2, 2, 2, 2, 2, 1, 1, 1, 1, 1, 1, 1, 1, 1, 1, 1, 1, 1, 1, 1, 1, 1, 1, 1, 58, 45, 20, 19, 19, 16, 13, 5, 5, 5, 3, 3, 3, 3, 3, 3, 2, 2, 2, 2, 2, 2, 2, 2, 2, 2, 2, 2, 2, 2, 1, 1, 1, 1, 1, 1, 1, 1, 1, 1, 1, 1, 1, 1, 1, 1, 1, 1, 1, 1, 1, 1, 1, 1, 1, 1, 1, 71, 57, 45, 32, 27, 21, 14, 11, 9, 6, 5, 5, 5, 4, 4, 3, 3, 3, 3, 3, 3, 3, 3, 3, 3, 3, 2, 2, 2, 2, 2, 2, 2, 2, 2, 2, 2, 2, 2, 2, 2, 2, 1, 1, 1, 1, 1, 1, 1, 1, 1, 1, 1, 1, 1, 1, 1, 1, 1, 1, 1, 1, 1, 1, 1, 1, 1, 1, 1, 1, 1, 1, 1, 1, 1, 1, 1, 1, 83, 83, 45, 38, 31, 21, 14, 12, 12, 9, 8, 8, 7, 7, 6, 6, 5, 5, 5, 5, 4, 4, 4, 4, 4, 3, 3, 3, 3, 3, 3, 2, 2, 2, 2, 2, 2, 2, 2, 2, 2, 2, 2, 2, 2, 2, 2, 2, 2, 1, 1, 1, 1, 1, 1, 1, 1, 1, 1, 1, 1, 1, 1, 1, 1, 1, 1, 1, 1, 1, 1, 1, 1, 1, 1, 1, 1, 1, 1, 1, 1, 1, 1, 1, 1, 1, 1, 1, 1, 1, 1, 1, 1, 1, 1, 1, 1, 1, 1, 1, 1, 1, 98, 83, 45, 38, 31, 21, 19, 17, 14, 12, 9, 8, 8, 7, 7, 7, 6, 6, 6, 5, 5, 5, 4, 4, 4, 4, 4, 4, 4, 3, 3, 3, 3, 3, 3, 3, 3, 3, 2, 2, 2, 2, 2, 2, 2, 2, 2, 2, 2, 2, 2, 2, 2, 2, 2, 2, 2, 1, 1, 1, 1, 1, 1, 1, 1, 1, 1, 1, 1, 1, 1, 1, 1, 1, 1, 1, 1, 1, 1, 1, 1, 1, 1, 1, 1, 1, 1, 1, 1, 1, 1, 1, 1, 1, 1, 1, 1, 1, 1, 1, 1, 1, 1, 1, 1, 1, 1, 1, 1, 1, 1, 1, 267, 173, 144, 92, 46, 21, 17, 15, 15, 15, 15, 13, 12, 12, 8, 8, 7, 7, 7, 7, 6, 6, 6, 5, 4, 4, 3, 3, 3, 3, 3, 2, 2, 2, 2, 1, 1, 1, 1, 366, 220, 177, 95, 46, 34, 28, 25, 23, 23, 21, 21, 19, 16, 13, 11, 10, 10, 9, 9, 9, 9, 8, 8, 7, 7, 6, 6, 5, 5, 5, 5, 4, 3, 3, 3, 2, 2, 2, 1, 1, 1, 1, 1, 1]}],\n",
              "                        {\"template\": {\"data\": {\"bar\": [{\"error_x\": {\"color\": \"#2a3f5f\"}, \"error_y\": {\"color\": \"#2a3f5f\"}, \"marker\": {\"line\": {\"color\": \"#E5ECF6\", \"width\": 0.5}}, \"type\": \"bar\"}], \"barpolar\": [{\"marker\": {\"line\": {\"color\": \"#E5ECF6\", \"width\": 0.5}}, \"type\": \"barpolar\"}], \"carpet\": [{\"aaxis\": {\"endlinecolor\": \"#2a3f5f\", \"gridcolor\": \"white\", \"linecolor\": \"white\", \"minorgridcolor\": \"white\", \"startlinecolor\": \"#2a3f5f\"}, \"baxis\": {\"endlinecolor\": \"#2a3f5f\", \"gridcolor\": \"white\", \"linecolor\": \"white\", \"minorgridcolor\": \"white\", \"startlinecolor\": \"#2a3f5f\"}, \"type\": \"carpet\"}], \"choropleth\": [{\"colorbar\": {\"outlinewidth\": 0, \"ticks\": \"\"}, \"type\": \"choropleth\"}], \"contour\": [{\"colorbar\": {\"outlinewidth\": 0, \"ticks\": \"\"}, \"colorscale\": [[0.0, \"#0d0887\"], [0.1111111111111111, \"#46039f\"], [0.2222222222222222, \"#7201a8\"], [0.3333333333333333, \"#9c179e\"], [0.4444444444444444, \"#bd3786\"], [0.5555555555555556, \"#d8576b\"], [0.6666666666666666, \"#ed7953\"], [0.7777777777777778, \"#fb9f3a\"], [0.8888888888888888, \"#fdca26\"], [1.0, \"#f0f921\"]], \"type\": \"contour\"}], \"contourcarpet\": [{\"colorbar\": {\"outlinewidth\": 0, \"ticks\": \"\"}, \"type\": \"contourcarpet\"}], \"heatmap\": [{\"colorbar\": {\"outlinewidth\": 0, \"ticks\": \"\"}, \"colorscale\": [[0.0, \"#0d0887\"], [0.1111111111111111, \"#46039f\"], [0.2222222222222222, \"#7201a8\"], [0.3333333333333333, \"#9c179e\"], [0.4444444444444444, \"#bd3786\"], [0.5555555555555556, \"#d8576b\"], [0.6666666666666666, \"#ed7953\"], [0.7777777777777778, \"#fb9f3a\"], [0.8888888888888888, \"#fdca26\"], [1.0, \"#f0f921\"]], \"type\": \"heatmap\"}], \"heatmapgl\": [{\"colorbar\": {\"outlinewidth\": 0, \"ticks\": \"\"}, \"colorscale\": [[0.0, \"#0d0887\"], [0.1111111111111111, \"#46039f\"], [0.2222222222222222, \"#7201a8\"], [0.3333333333333333, \"#9c179e\"], [0.4444444444444444, \"#bd3786\"], [0.5555555555555556, \"#d8576b\"], [0.6666666666666666, \"#ed7953\"], [0.7777777777777778, \"#fb9f3a\"], [0.8888888888888888, \"#fdca26\"], [1.0, \"#f0f921\"]], \"type\": \"heatmapgl\"}], \"histogram\": [{\"marker\": {\"colorbar\": {\"outlinewidth\": 0, \"ticks\": \"\"}}, \"type\": \"histogram\"}], \"histogram2d\": [{\"colorbar\": {\"outlinewidth\": 0, \"ticks\": \"\"}, \"colorscale\": [[0.0, \"#0d0887\"], [0.1111111111111111, \"#46039f\"], [0.2222222222222222, \"#7201a8\"], [0.3333333333333333, \"#9c179e\"], [0.4444444444444444, \"#bd3786\"], [0.5555555555555556, \"#d8576b\"], [0.6666666666666666, \"#ed7953\"], [0.7777777777777778, \"#fb9f3a\"], [0.8888888888888888, \"#fdca26\"], [1.0, \"#f0f921\"]], \"type\": \"histogram2d\"}], \"histogram2dcontour\": [{\"colorbar\": {\"outlinewidth\": 0, \"ticks\": \"\"}, \"colorscale\": [[0.0, \"#0d0887\"], [0.1111111111111111, \"#46039f\"], [0.2222222222222222, \"#7201a8\"], [0.3333333333333333, \"#9c179e\"], [0.4444444444444444, \"#bd3786\"], [0.5555555555555556, \"#d8576b\"], [0.6666666666666666, \"#ed7953\"], [0.7777777777777778, \"#fb9f3a\"], [0.8888888888888888, \"#fdca26\"], [1.0, \"#f0f921\"]], \"type\": \"histogram2dcontour\"}], \"mesh3d\": [{\"colorbar\": {\"outlinewidth\": 0, \"ticks\": \"\"}, \"type\": \"mesh3d\"}], \"parcoords\": [{\"line\": {\"colorbar\": {\"outlinewidth\": 0, \"ticks\": \"\"}}, \"type\": \"parcoords\"}], \"pie\": [{\"automargin\": true, \"type\": \"pie\"}], \"scatter\": [{\"marker\": {\"colorbar\": {\"outlinewidth\": 0, \"ticks\": \"\"}}, \"type\": \"scatter\"}], \"scatter3d\": [{\"line\": {\"colorbar\": {\"outlinewidth\": 0, \"ticks\": \"\"}}, \"marker\": {\"colorbar\": {\"outlinewidth\": 0, \"ticks\": \"\"}}, \"type\": \"scatter3d\"}], \"scattercarpet\": [{\"marker\": {\"colorbar\": {\"outlinewidth\": 0, \"ticks\": \"\"}}, \"type\": \"scattercarpet\"}], \"scattergeo\": [{\"marker\": {\"colorbar\": {\"outlinewidth\": 0, \"ticks\": \"\"}}, \"type\": \"scattergeo\"}], \"scattergl\": [{\"marker\": {\"colorbar\": {\"outlinewidth\": 0, \"ticks\": \"\"}}, \"type\": \"scattergl\"}], \"scattermapbox\": [{\"marker\": {\"colorbar\": {\"outlinewidth\": 0, \"ticks\": \"\"}}, \"type\": \"scattermapbox\"}], \"scatterpolar\": [{\"marker\": {\"colorbar\": {\"outlinewidth\": 0, \"ticks\": \"\"}}, \"type\": \"scatterpolar\"}], \"scatterpolargl\": [{\"marker\": {\"colorbar\": {\"outlinewidth\": 0, \"ticks\": \"\"}}, \"type\": \"scatterpolargl\"}], \"scatterternary\": [{\"marker\": {\"colorbar\": {\"outlinewidth\": 0, \"ticks\": \"\"}}, \"type\": \"scatterternary\"}], \"surface\": [{\"colorbar\": {\"outlinewidth\": 0, \"ticks\": \"\"}, \"colorscale\": [[0.0, \"#0d0887\"], [0.1111111111111111, \"#46039f\"], [0.2222222222222222, \"#7201a8\"], [0.3333333333333333, \"#9c179e\"], [0.4444444444444444, \"#bd3786\"], [0.5555555555555556, \"#d8576b\"], [0.6666666666666666, \"#ed7953\"], [0.7777777777777778, \"#fb9f3a\"], [0.8888888888888888, \"#fdca26\"], [1.0, \"#f0f921\"]], \"type\": \"surface\"}], \"table\": [{\"cells\": {\"fill\": {\"color\": \"#EBF0F8\"}, \"line\": {\"color\": \"white\"}}, \"header\": {\"fill\": {\"color\": \"#C8D4E3\"}, \"line\": {\"color\": \"white\"}}, \"type\": \"table\"}]}, \"layout\": {\"annotationdefaults\": {\"arrowcolor\": \"#2a3f5f\", \"arrowhead\": 0, \"arrowwidth\": 1}, \"coloraxis\": {\"colorbar\": {\"outlinewidth\": 0, \"ticks\": \"\"}}, \"colorscale\": {\"diverging\": [[0, \"#8e0152\"], [0.1, \"#c51b7d\"], [0.2, \"#de77ae\"], [0.3, \"#f1b6da\"], [0.4, \"#fde0ef\"], [0.5, \"#f7f7f7\"], [0.6, \"#e6f5d0\"], [0.7, \"#b8e186\"], [0.8, \"#7fbc41\"], [0.9, \"#4d9221\"], [1, \"#276419\"]], \"sequential\": [[0.0, \"#0d0887\"], [0.1111111111111111, \"#46039f\"], [0.2222222222222222, \"#7201a8\"], [0.3333333333333333, \"#9c179e\"], [0.4444444444444444, \"#bd3786\"], [0.5555555555555556, \"#d8576b\"], [0.6666666666666666, \"#ed7953\"], [0.7777777777777778, \"#fb9f3a\"], [0.8888888888888888, \"#fdca26\"], [1.0, \"#f0f921\"]], \"sequentialminus\": [[0.0, \"#0d0887\"], [0.1111111111111111, \"#46039f\"], [0.2222222222222222, \"#7201a8\"], [0.3333333333333333, \"#9c179e\"], [0.4444444444444444, \"#bd3786\"], [0.5555555555555556, \"#d8576b\"], [0.6666666666666666, \"#ed7953\"], [0.7777777777777778, \"#fb9f3a\"], [0.8888888888888888, \"#fdca26\"], [1.0, \"#f0f921\"]]}, \"colorway\": [\"#636efa\", \"#EF553B\", \"#00cc96\", \"#ab63fa\", \"#FFA15A\", \"#19d3f3\", \"#FF6692\", \"#B6E880\", \"#FF97FF\", \"#FECB52\"], \"font\": {\"color\": \"#2a3f5f\"}, \"geo\": {\"bgcolor\": \"white\", \"lakecolor\": \"white\", \"landcolor\": \"#E5ECF6\", \"showlakes\": true, \"showland\": true, \"subunitcolor\": \"white\"}, \"hoverlabel\": {\"align\": \"left\"}, \"hovermode\": \"closest\", \"mapbox\": {\"style\": \"light\"}, \"paper_bgcolor\": \"white\", \"plot_bgcolor\": \"#E5ECF6\", \"polar\": {\"angularaxis\": {\"gridcolor\": \"white\", \"linecolor\": \"white\", \"ticks\": \"\"}, \"bgcolor\": \"#E5ECF6\", \"radialaxis\": {\"gridcolor\": \"white\", \"linecolor\": \"white\", \"ticks\": \"\"}}, \"scene\": {\"xaxis\": {\"backgroundcolor\": \"#E5ECF6\", \"gridcolor\": \"white\", \"gridwidth\": 2, \"linecolor\": \"white\", \"showbackground\": true, \"ticks\": \"\", \"zerolinecolor\": \"white\"}, \"yaxis\": {\"backgroundcolor\": \"#E5ECF6\", \"gridcolor\": \"white\", \"gridwidth\": 2, \"linecolor\": \"white\", \"showbackground\": true, \"ticks\": \"\", \"zerolinecolor\": \"white\"}, \"zaxis\": {\"backgroundcolor\": \"#E5ECF6\", \"gridcolor\": \"white\", \"gridwidth\": 2, \"linecolor\": \"white\", \"showbackground\": true, \"ticks\": \"\", \"zerolinecolor\": \"white\"}}, \"shapedefaults\": {\"line\": {\"color\": \"#2a3f5f\"}}, \"ternary\": {\"aaxis\": {\"gridcolor\": \"white\", \"linecolor\": \"white\", \"ticks\": \"\"}, \"baxis\": {\"gridcolor\": \"white\", \"linecolor\": \"white\", \"ticks\": \"\"}, \"bgcolor\": \"#E5ECF6\", \"caxis\": {\"gridcolor\": \"white\", \"linecolor\": \"white\", \"ticks\": \"\"}}, \"title\": {\"x\": 0.05}, \"xaxis\": {\"automargin\": true, \"gridcolor\": \"white\", \"linecolor\": \"white\", \"ticks\": \"\", \"title\": {\"standoff\": 15}, \"zerolinecolor\": \"white\", \"zerolinewidth\": 2}, \"yaxis\": {\"automargin\": true, \"gridcolor\": \"white\", \"linecolor\": \"white\", \"ticks\": \"\", \"title\": {\"standoff\": 15}, \"zerolinecolor\": \"white\", \"zerolinewidth\": 2}}}},\n",
              "                        {\"responsive\": true}\n",
              "                    ).then(function(){\n",
              "                            \n",
              "var gd = document.getElementById('06aae126-b485-4664-9945-5e3d30754b05');\n",
              "var x = new MutationObserver(function (mutations, observer) {{\n",
              "        var display = window.getComputedStyle(gd).display;\n",
              "        if (!display || display === 'none') {{\n",
              "            console.log([gd, 'removed!']);\n",
              "            Plotly.purge(gd);\n",
              "            observer.disconnect();\n",
              "        }}\n",
              "}});\n",
              "\n",
              "// Listen for the removal of the full notebook cells\n",
              "var notebookContainer = gd.closest('#notebook-container');\n",
              "if (notebookContainer) {{\n",
              "    x.observe(notebookContainer, {childList: true});\n",
              "}}\n",
              "\n",
              "// Listen for the clearing of the current output cell\n",
              "var outputEl = gd.closest('.output');\n",
              "if (outputEl) {{\n",
              "    x.observe(outputEl, {childList: true});\n",
              "}}\n",
              "\n",
              "                        })\n",
              "                };\n",
              "                \n",
              "            </script>\n",
              "        </div>\n",
              "</body>\n",
              "</html>"
            ]
          },
          "metadata": {
            "tags": []
          }
        }
      ]
    },
    {
      "cell_type": "markdown",
      "metadata": {
        "id": "S_89WUD18L9c",
        "colab_type": "text"
      },
      "source": [
        "[**EDA Tableau Dashboard**](https://public.tableau.com/profile/aniruddha.shirahatti#!/vizhome/CoronavirusAnalysis_15843374419500/COVID_19_Analysis)\n",
        "\n"
      ]
    },
    {
      "cell_type": "markdown",
      "metadata": {
        "id": "jo_ouV9WkSiu",
        "colab_type": "text"
      },
      "source": [
        "**Conclusion:**"
      ]
    },
    {
      "cell_type": "markdown",
      "metadata": {
        "id": "jxeB3cDT8gUI",
        "colab_type": "text"
      },
      "source": [
        ""
      ]
    }
  ]
}